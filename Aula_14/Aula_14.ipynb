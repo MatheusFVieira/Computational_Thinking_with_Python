{
  "nbformat": 4,
  "nbformat_minor": 0,
  "metadata": {
    "colab": {
      "provenance": []
    },
    "kernelspec": {
      "name": "python3",
      "display_name": "Python 3"
    },
    "language_info": {
      "name": "python"
    }
  },
  "cells": [
    {
      "cell_type": "code",
      "execution_count": 5,
      "metadata": {
        "colab": {
          "base_uri": "https://localhost:8080/"
        },
        "id": "D92kTeqcusnx",
        "outputId": "31b1e40d-c197-47c8-f323-f3e006301327"
      },
      "outputs": [
        {
          "output_type": "stream",
          "name": "stdout",
          "text": [
            "30\n",
            "80\n",
            "8.0\n",
            "250\n"
          ]
        }
      ],
      "source": [
        "# Ex.1\n",
        "\n",
        "soma = lambda x, y: x + y\n",
        "subtracao = lambda var1, var2: var1 - var2\n",
        "divisao = lambda var3, var4: var3 / var4\n",
        "multiplicacao = lambda var5, var6: var5 * var6\n",
        "\n",
        "print(soma(10, 20))\n",
        "print(subtracao(100, 20))\n",
        "print(divisao(160, 20))\n",
        "print(multiplicacao(10, 25))"
      ]
    },
    {
      "cell_type": "code",
      "source": [
        "# Ex.2\n",
        "\n",
        "concatenar = lambda str1, str2: str1 + \" é \" + str2\n",
        "\n",
        "print(concatenar(\"Hoje\",\"quarta-feira\"))"
      ],
      "metadata": {
        "colab": {
          "base_uri": "https://localhost:8080/"
        },
        "id": "xdHGGYMUyfHR",
        "outputId": "01e06792-c698-48b7-8ef5-97586f3aa48b"
      },
      "execution_count": 9,
      "outputs": [
        {
          "output_type": "stream",
          "name": "stdout",
          "text": [
            "Hoje é quarta-feira\n"
          ]
        }
      ]
    },
    {
      "cell_type": "code",
      "source": [
        "# Ex.3\n",
        "\n",
        "maiusculo = lambda z: z.upper()\n",
        "minusculo = lambda x: x.lower()\n",
        "\n",
        "print(maiusculo(\"fiap\"))\n",
        "print(minusculo(\"FIAP\"))"
      ],
      "metadata": {
        "colab": {
          "base_uri": "https://localhost:8080/"
        },
        "id": "CCBY9LxqzIZL",
        "outputId": "e8070676-67ce-4e41-c866-eefad2e827ac"
      },
      "execution_count": 10,
      "outputs": [
        {
          "output_type": "stream",
          "name": "stdout",
          "text": [
            "FIAP\n",
            "fiap\n"
          ]
        }
      ]
    },
    {
      "cell_type": "code",
      "source": [
        "# Ex.4 - Estrutura de condição dentro do lambda\n",
        "\n",
        "avaliacao = lambda nota: 'boa' if nota >= 7 else('regural' if nota >=5 else 'ruim')\n",
        "\n",
        "print(avaliacao(9))\n",
        "print(avaliacao(6))\n",
        "print(avaliacao(4))"
      ],
      "metadata": {
        "colab": {
          "base_uri": "https://localhost:8080/"
        },
        "id": "BS13a7jYzjki",
        "outputId": "2f34ffa7-6217-4d8b-9d1d-6f77c7d6d2ba"
      },
      "execution_count": 13,
      "outputs": [
        {
          "output_type": "stream",
          "name": "stdout",
          "text": [
            "boa\n",
            "regural\n",
            "ruim\n"
          ]
        }
      ]
    },
    {
      "cell_type": "code",
      "source": [
        "# Ex.5 Estrutura de condição para o problema da idade\n",
        "\n",
        "idade = lambda idade: 'idoso' if idade >=60 else('adulto' if idade >= 18 else('adolescente' if idade >= 12 else 'criança'))\n",
        "\n",
        "print(idade(70))\n",
        "print(idade(40))\n",
        "print(idade(15))\n",
        "print(idade(10))"
      ],
      "metadata": {
        "colab": {
          "base_uri": "https://localhost:8080/"
        },
        "id": "Q1RuXp_x0l7b",
        "outputId": "1ba91cac-6c3f-49e8-db10-5c461da52be9"
      },
      "execution_count": 15,
      "outputs": [
        {
          "output_type": "stream",
          "name": "stdout",
          "text": [
            "idoso\n",
            "adulto\n",
            "adolescente\n",
            "criança\n"
          ]
        }
      ]
    },
    {
      "cell_type": "code",
      "source": [
        "# Ex.6\n",
        "\n",
        "numeros = [10, 20, 30, 40, 50]\n",
        "\n",
        "quadrado = list(map(lambda x: x ** 2, numeros))\n",
        "\n",
        "print(quadrado)"
      ],
      "metadata": {
        "colab": {
          "base_uri": "https://localhost:8080/"
        },
        "id": "7lmVE0cd2AC_",
        "outputId": "78290aff-e27c-4998-8a87-b01a1c53bb52"
      },
      "execution_count": 17,
      "outputs": [
        {
          "output_type": "stream",
          "name": "stdout",
          "text": [
            "[100, 400, 900, 1600, 2500]\n"
          ]
        }
      ]
    },
    {
      "cell_type": "code",
      "source": [
        "# Ex.7 Estrutura com lambda e listas\n",
        "\n",
        "palavras  = ['lambda', 'é', 'muito', 'util!']\n",
        "\n",
        "maiusculas = list(map(lambda x: x.upper(), palavras))\n",
        "\n",
        "print(maiusculas)"
      ],
      "metadata": {
        "colab": {
          "base_uri": "https://localhost:8080/"
        },
        "id": "ibLdrvR_3dl5",
        "outputId": "93c25c91-9f20-4956-fea1-17c28b9e3c5c"
      },
      "execution_count": 18,
      "outputs": [
        {
          "output_type": "stream",
          "name": "stdout",
          "text": [
            "['LAMBDA', 'É', 'MUITO', 'UTIL!']\n"
          ]
        }
      ]
    },
    {
      "cell_type": "code",
      "source": [
        "# Ex.8\n",
        "\n",
        "palavras  = ['lambda', 'é', 'muito', 'util!']\n",
        "\n",
        "comprimento = list(map(lambda x: len(x), palavras))\n",
        "\n",
        "print(comprimento)"
      ],
      "metadata": {
        "colab": {
          "base_uri": "https://localhost:8080/"
        },
        "id": "HvNLCeTJ30J5",
        "outputId": "ee7c26b0-f457-4421-d21c-587f7a363682"
      },
      "execution_count": 19,
      "outputs": [
        {
          "output_type": "stream",
          "name": "stdout",
          "text": [
            "[6, 1, 5, 5]\n"
          ]
        }
      ]
    },
    {
      "cell_type": "code",
      "source": [
        "# Ex.9 Estrutura com lambda, filters e listas\n",
        "\n",
        "numeros = [5, 10, 15, 20, 25]\n",
        "\n",
        "pares = list(filter(lambda x: x % 2 == 0, numeros))\n",
        "\n",
        "print(pares)"
      ],
      "metadata": {
        "colab": {
          "base_uri": "https://localhost:8080/"
        },
        "id": "HgnsnDV-4PiY",
        "outputId": "c089845e-f23a-4f6c-db38-257eea3a6e1a"
      },
      "execution_count": 20,
      "outputs": [
        {
          "output_type": "stream",
          "name": "stdout",
          "text": [
            "[10, 20]\n"
          ]
        }
      ]
    },
    {
      "cell_type": "code",
      "source": [
        "# Ex.10\n",
        "\n",
        "palavras = ['carro', 'bicicleta', 'aviao', 'caminhão']\n",
        "\n",
        "correcao = list(filter(lambda varA: varA.startswith('c'), palavras))\n",
        "\n",
        "print(correcao)"
      ],
      "metadata": {
        "colab": {
          "base_uri": "https://localhost:8080/"
        },
        "id": "JbSDAAaC5JWj",
        "outputId": "58bd455f-b6dd-479f-bbe8-09f8c007ae56"
      },
      "execution_count": 21,
      "outputs": [
        {
          "output_type": "stream",
          "name": "stdout",
          "text": [
            "['carro', 'caminhão']\n"
          ]
        }
      ]
    },
    {
      "cell_type": "code",
      "source": [
        "# Ex.11\n",
        "\n",
        "nomes = ['Matheus', 'Lívia', 'Leila', 'Gabriel']\n",
        "\n",
        "formatados = list(map(lambda x: f'Olá, {x}', nomes))\n",
        "\n",
        "print(formatados)"
      ],
      "metadata": {
        "colab": {
          "base_uri": "https://localhost:8080/"
        },
        "id": "Fh-8KQE06DjO",
        "outputId": "d7409387-30df-46f1-f27b-ef22945bddd9"
      },
      "execution_count": 24,
      "outputs": [
        {
          "output_type": "stream",
          "name": "stdout",
          "text": [
            "['Olá, Matheus', 'Olá, Lívia', 'Olá, Leila', 'Olá, Gabriel']\n"
          ]
        }
      ]
    },
    {
      "cell_type": "code",
      "source": [
        "# Ex.12\n",
        "\n",
        "tuplas = (['maça', 2], ['uva', 15], ['pera', 4], ['banana', 10])\n",
        "\n",
        "ordena = sorted(tuplas, key=lambda x: x[1])\n",
        "\n",
        "print(ordena)"
      ],
      "metadata": {
        "colab": {
          "base_uri": "https://localhost:8080/"
        },
        "id": "wNahadqr6hll",
        "outputId": "2ae07080-d266-4537-a260-328bf3b96f83"
      },
      "execution_count": 25,
      "outputs": [
        {
          "output_type": "stream",
          "name": "stdout",
          "text": [
            "[['maça', 2], ['pera', 4], ['banana', 10], ['uva', 15]]\n"
          ]
        }
      ]
    },
    {
      "cell_type": "code",
      "source": [
        "# Ex.13\n",
        "\n",
        "tuplas = (['maça', 100], ['uva', 150], ['pera', 40], ['banana', 10])\n",
        "\n",
        "filtro_quantidade = list(filter(lambda x: x[1] > 40, tuplas))\n",
        "\n",
        "print(filtro_quantidade)"
      ],
      "metadata": {
        "colab": {
          "base_uri": "https://localhost:8080/"
        },
        "id": "RM9ekXtG9Mdk",
        "outputId": "a8695d58-6ed1-4e1c-cde9-54f5f9d269c3"
      },
      "execution_count": 28,
      "outputs": [
        {
          "output_type": "stream",
          "name": "stdout",
          "text": [
            "[['maça', 100], ['uva', 150]]\n"
          ]
        }
      ]
    },
    {
      "cell_type": "code",
      "source": [
        "# Ex.14\n",
        "\n",
        "nomes = (['Ana', 18], ['Bruno', 21], ['Carla', 48], ['João', 51])\n",
        "\n",
        "filtro_nomes = list(filter(lambda x: len(x[0]) == 4, nomes))\n",
        "\n",
        "print(filtro_nomes)"
      ],
      "metadata": {
        "colab": {
          "base_uri": "https://localhost:8080/"
        },
        "id": "qba0rxSZ_9j4",
        "outputId": "3ec77683-98c9-4943-ab13-b964c9c6f1b7"
      },
      "execution_count": 32,
      "outputs": [
        {
          "output_type": "stream",
          "name": "stdout",
          "text": [
            "[['João', 51]]\n"
          ]
        }
      ]
    },
    {
      "cell_type": "code",
      "source": [
        "# Exercício 1\n",
        "\n",
        "pacientes = {\n",
        "    'nome': [],\n",
        "    'idade': [],\n",
        "    'especialidade': [],\n",
        "    'custo': []\n",
        "}\n",
        "\n",
        "for i in range(2):\n",
        "    nome = input(\"Digite o seu nome:\" )\n",
        "    idade = int(input(\"Digite a sua idade:\" ))\n",
        "    especialidade = input(\"Digite a especialidade que você vai consultar:\" )\n",
        "\n",
        "    if especialidade == 'Clinico geral':\n",
        "        custo = 500\n",
        "    elif especialidade == 'Ortopedista':\n",
        "        custo = 600\n",
        "    elif especialidade == 'Cardiologista':\n",
        "        custo = 800\n",
        "    elif especialidade == 'Dermatologista':\n",
        "        custo = 700\n",
        "    else:\n",
        "        print('Especialidade inválida')\n",
        "        custo = 0\n",
        "\n",
        "    pacientes['nome'].append(nome)\n",
        "    pacientes['idade'].append(idade)\n",
        "    pacientes['especialidade'].append(especialidade)\n",
        "    pacientes['custo'].append(custo)\n",
        "\n",
        "print(pacientes)"
      ],
      "metadata": {
        "colab": {
          "base_uri": "https://localhost:8080/"
        },
        "id": "iIHonHNIGz_9",
        "outputId": "080d941f-efee-4903-8db1-b2c30a493dd5"
      },
      "execution_count": 46,
      "outputs": [
        {
          "output_type": "stream",
          "name": "stdout",
          "text": [
            "Digite o seu nome:Matheus\n",
            "Digite a sua idade:18\n",
            "Digite a especialidade que você vai consultar:Dermatologista\n",
            "Digite o seu nome:effujh\n",
            "Digite a sua idade:54\n",
            "Digite a especialidade que você vai consultar:Ortopedista\n",
            "Especialidade inválida\n",
            "{'nome': ['Matheus', 'effujh'], 'idade': [18, 54], 'especialidade': ['Dermatologista', 'Ortopedista'], 'custo': [700, 0]}\n"
          ]
        }
      ]
    },
    {
      "cell_type": "code",
      "source": [
        "# Exercício 2\n",
        "\n",
        "pacientes = {\n",
        "    'nome': [],\n",
        "    'idade': [],\n",
        "    'especialidade': [],\n",
        "    'custo': []\n",
        "}\n",
        "\n",
        "calcular_custo = lambda custo: (\n",
        "    500 if especialidade == 'Clinico geral' else\n",
        "    600 if especialidade == 'Ortopedista' else\n",
        "    800 if especialidade == 'Cardiologista' else\n",
        "    700 if especialidade == 'Dermatologista' else\n",
        "    0\n",
        ")\n",
        "\n",
        "for i in range(2):\n",
        "    nome = input(\"Digite o seu nome:\" )\n",
        "    idade = int(input(\"Digite a sua idade:\" ))\n",
        "    especialidade = input(\"Digite a especialidade que você vai consultar:\" )\n",
        "\n",
        "    custo = calcular_custo(especialidade)\n",
        "\n",
        "    pacientes['nome'].append(nome)\n",
        "    pacientes['idade'].append(idade)\n",
        "    pacientes['especialidade'].append(especialidade)\n",
        "    pacientes['custo'].append(custo)\n",
        "\n",
        "print(pacientes)"
      ],
      "metadata": {
        "colab": {
          "base_uri": "https://localhost:8080/"
        },
        "id": "cyesbyxWTRGp",
        "outputId": "375483c6-07db-4894-896d-72dd1d3ef62b"
      },
      "execution_count": 47,
      "outputs": [
        {
          "output_type": "stream",
          "name": "stdout",
          "text": [
            "Digite o seu nome:Matheus\n",
            "Digite a sua idade:18\n",
            "Digite a especialidade que você vai consultar:Cardiologista\n",
            "Digite o seu nome:vrfv\n",
            "Digite a sua idade:48\n",
            "Digite a especialidade que você vai consultar:Dermatologista\n",
            "{'nome': ['Matheus', 'vrfv'], 'idade': [18, 48], 'especialidade': ['Cardiologista', 'Dermatologista'], 'custo': [800, 700]}\n"
          ]
        }
      ]
    }
  ]
}