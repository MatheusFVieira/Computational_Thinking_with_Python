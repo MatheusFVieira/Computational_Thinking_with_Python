{
  "nbformat": 4,
  "nbformat_minor": 0,
  "metadata": {
    "colab": {
      "provenance": []
    },
    "kernelspec": {
      "name": "python3",
      "display_name": "Python 3"
    },
    "language_info": {
      "name": "python"
    }
  },
  "cells": [
    {
      "cell_type": "code",
      "execution_count": null,
      "metadata": {
        "colab": {
          "base_uri": "https://localhost:8080/"
        },
        "id": "IIIJ0BnZjQs1",
        "outputId": "6cf1de16-4541-4877-a014-c51380736e3f"
      },
      "outputs": [
        {
          "output_type": "stream",
          "name": "stdout",
          "text": [
            "[10, 20, 30, 40, 50]\n",
            "['A', 'B', 'C', 'D', 'E']\n",
            "['Python', 'C++', 'C#', 'Java', 'HTML']\n"
          ]
        }
      ],
      "source": [
        "# Lista\n",
        "\n",
        "lista_numero = [10, 20, 30, 40, 50]\n",
        "\n",
        "lista_caractere = ['A', 'B', 'C', 'D', 'E']\n",
        "\n",
        "lista_palavra = ['Python', 'C++', 'C#', 'Java', 'HTML']\n",
        "\n",
        "print(lista_numero)\n",
        "print(lista_caractere)\n",
        "print(lista_palavra)"
      ]
    },
    {
      "cell_type": "code",
      "source": [
        "# Tupla\n",
        "\n",
        "tupla_numero = (10, 20, 30, 40, 50)\n",
        "\n",
        "tupla_caractere = ('A', 'B', 'C', 'D', 'E')\n",
        "\n",
        "tupla_palavra = ('Python', 'C++', 'C#', 'Java', 'HTML')\n",
        "\n",
        "print(tupla_numero)\n",
        "print(tupla_caractere)\n",
        "print(tupla_palavra)"
      ],
      "metadata": {
        "colab": {
          "base_uri": "https://localhost:8080/"
        },
        "id": "58ns4OiCj7gx",
        "outputId": "5276e05f-7b0f-40ce-d9a0-f4b278377182"
      },
      "execution_count": null,
      "outputs": [
        {
          "output_type": "stream",
          "name": "stdout",
          "text": [
            "(10, 20, 30, 40, 50)\n",
            "('A', 'B', 'C', 'D', 'E')\n",
            "('Python', 'C++', 'C#', 'Java', 'HTML')\n"
          ]
        }
      ]
    },
    {
      "cell_type": "code",
      "source": [
        "# Dicionario\n",
        "\n",
        "dicionario = {\n",
        "    'indice': [1, 2, 3, 4],\n",
        "    'time': ['Cruzeiro', 'São Paulo', 'Flamengo', 'Internacional'],\n",
        "    'vitorias': [14, 10, 15, 9],\n",
        "}\n",
        "\n",
        "print(dicionario)"
      ],
      "metadata": {
        "colab": {
          "base_uri": "https://localhost:8080/"
        },
        "id": "IFsCCLILkQEi",
        "outputId": "effd159d-f687-4e1c-c37e-8cbd243c49ee"
      },
      "execution_count": null,
      "outputs": [
        {
          "output_type": "stream",
          "name": "stdout",
          "text": [
            "{'indice': [1, 2, 3, 4], 'time': ['Cruzeiro', 'São Paulo', 'Flamengo', 'Internacional'], 'vitorias': [14, 10, 15, 9]}\n"
          ]
        }
      ]
    },
    {
      "cell_type": "code",
      "source": [
        "import pandas as pd\n",
        "\n",
        "df = pd.DataFrame(dicionario)\n",
        "\n",
        "df"
      ],
      "metadata": {
        "colab": {
          "base_uri": "https://localhost:8080/",
          "height": 175
        },
        "id": "onrtft8Yk6YY",
        "outputId": "c2595aa6-332e-4843-9127-62d381a7a3cd"
      },
      "execution_count": null,
      "outputs": [
        {
          "output_type": "execute_result",
          "data": {
            "text/plain": [
              "   indice           time  vitorias\n",
              "0       1       Cruzeiro        14\n",
              "1       2      São Paulo        10\n",
              "2       3       Flamengo        15\n",
              "3       4  Internacional         9"
            ],
            "text/html": [
              "\n",
              "  <div id=\"df-87a1ea6e-8848-466f-98ec-97a0d30412d0\" class=\"colab-df-container\">\n",
              "    <div>\n",
              "<style scoped>\n",
              "    .dataframe tbody tr th:only-of-type {\n",
              "        vertical-align: middle;\n",
              "    }\n",
              "\n",
              "    .dataframe tbody tr th {\n",
              "        vertical-align: top;\n",
              "    }\n",
              "\n",
              "    .dataframe thead th {\n",
              "        text-align: right;\n",
              "    }\n",
              "</style>\n",
              "<table border=\"1\" class=\"dataframe\">\n",
              "  <thead>\n",
              "    <tr style=\"text-align: right;\">\n",
              "      <th></th>\n",
              "      <th>indice</th>\n",
              "      <th>time</th>\n",
              "      <th>vitorias</th>\n",
              "    </tr>\n",
              "  </thead>\n",
              "  <tbody>\n",
              "    <tr>\n",
              "      <th>0</th>\n",
              "      <td>1</td>\n",
              "      <td>Cruzeiro</td>\n",
              "      <td>14</td>\n",
              "    </tr>\n",
              "    <tr>\n",
              "      <th>1</th>\n",
              "      <td>2</td>\n",
              "      <td>São Paulo</td>\n",
              "      <td>10</td>\n",
              "    </tr>\n",
              "    <tr>\n",
              "      <th>2</th>\n",
              "      <td>3</td>\n",
              "      <td>Flamengo</td>\n",
              "      <td>15</td>\n",
              "    </tr>\n",
              "    <tr>\n",
              "      <th>3</th>\n",
              "      <td>4</td>\n",
              "      <td>Internacional</td>\n",
              "      <td>9</td>\n",
              "    </tr>\n",
              "  </tbody>\n",
              "</table>\n",
              "</div>\n",
              "    <div class=\"colab-df-buttons\">\n",
              "\n",
              "  <div class=\"colab-df-container\">\n",
              "    <button class=\"colab-df-convert\" onclick=\"convertToInteractive('df-87a1ea6e-8848-466f-98ec-97a0d30412d0')\"\n",
              "            title=\"Convert this dataframe to an interactive table.\"\n",
              "            style=\"display:none;\">\n",
              "\n",
              "  <svg xmlns=\"http://www.w3.org/2000/svg\" height=\"24px\" viewBox=\"0 -960 960 960\">\n",
              "    <path d=\"M120-120v-720h720v720H120Zm60-500h600v-160H180v160Zm220 220h160v-160H400v160Zm0 220h160v-160H400v160ZM180-400h160v-160H180v160Zm440 0h160v-160H620v160ZM180-180h160v-160H180v160Zm440 0h160v-160H620v160Z\"/>\n",
              "  </svg>\n",
              "    </button>\n",
              "\n",
              "  <style>\n",
              "    .colab-df-container {\n",
              "      display:flex;\n",
              "      gap: 12px;\n",
              "    }\n",
              "\n",
              "    .colab-df-convert {\n",
              "      background-color: #E8F0FE;\n",
              "      border: none;\n",
              "      border-radius: 50%;\n",
              "      cursor: pointer;\n",
              "      display: none;\n",
              "      fill: #1967D2;\n",
              "      height: 32px;\n",
              "      padding: 0 0 0 0;\n",
              "      width: 32px;\n",
              "    }\n",
              "\n",
              "    .colab-df-convert:hover {\n",
              "      background-color: #E2EBFA;\n",
              "      box-shadow: 0px 1px 2px rgba(60, 64, 67, 0.3), 0px 1px 3px 1px rgba(60, 64, 67, 0.15);\n",
              "      fill: #174EA6;\n",
              "    }\n",
              "\n",
              "    .colab-df-buttons div {\n",
              "      margin-bottom: 4px;\n",
              "    }\n",
              "\n",
              "    [theme=dark] .colab-df-convert {\n",
              "      background-color: #3B4455;\n",
              "      fill: #D2E3FC;\n",
              "    }\n",
              "\n",
              "    [theme=dark] .colab-df-convert:hover {\n",
              "      background-color: #434B5C;\n",
              "      box-shadow: 0px 1px 3px 1px rgba(0, 0, 0, 0.15);\n",
              "      filter: drop-shadow(0px 1px 2px rgba(0, 0, 0, 0.3));\n",
              "      fill: #FFFFFF;\n",
              "    }\n",
              "  </style>\n",
              "\n",
              "    <script>\n",
              "      const buttonEl =\n",
              "        document.querySelector('#df-87a1ea6e-8848-466f-98ec-97a0d30412d0 button.colab-df-convert');\n",
              "      buttonEl.style.display =\n",
              "        google.colab.kernel.accessAllowed ? 'block' : 'none';\n",
              "\n",
              "      async function convertToInteractive(key) {\n",
              "        const element = document.querySelector('#df-87a1ea6e-8848-466f-98ec-97a0d30412d0');\n",
              "        const dataTable =\n",
              "          await google.colab.kernel.invokeFunction('convertToInteractive',\n",
              "                                                    [key], {});\n",
              "        if (!dataTable) return;\n",
              "\n",
              "        const docLinkHtml = 'Like what you see? Visit the ' +\n",
              "          '<a target=\"_blank\" href=https://colab.research.google.com/notebooks/data_table.ipynb>data table notebook</a>'\n",
              "          + ' to learn more about interactive tables.';\n",
              "        element.innerHTML = '';\n",
              "        dataTable['output_type'] = 'display_data';\n",
              "        await google.colab.output.renderOutput(dataTable, element);\n",
              "        const docLink = document.createElement('div');\n",
              "        docLink.innerHTML = docLinkHtml;\n",
              "        element.appendChild(docLink);\n",
              "      }\n",
              "    </script>\n",
              "  </div>\n",
              "\n",
              "\n",
              "    <div id=\"df-77ba6cf6-89f3-4a57-9115-bfd5483a254f\">\n",
              "      <button class=\"colab-df-quickchart\" onclick=\"quickchart('df-77ba6cf6-89f3-4a57-9115-bfd5483a254f')\"\n",
              "                title=\"Suggest charts\"\n",
              "                style=\"display:none;\">\n",
              "\n",
              "<svg xmlns=\"http://www.w3.org/2000/svg\" height=\"24px\"viewBox=\"0 0 24 24\"\n",
              "     width=\"24px\">\n",
              "    <g>\n",
              "        <path d=\"M19 3H5c-1.1 0-2 .9-2 2v14c0 1.1.9 2 2 2h14c1.1 0 2-.9 2-2V5c0-1.1-.9-2-2-2zM9 17H7v-7h2v7zm4 0h-2V7h2v10zm4 0h-2v-4h2v4z\"/>\n",
              "    </g>\n",
              "</svg>\n",
              "      </button>\n",
              "\n",
              "<style>\n",
              "  .colab-df-quickchart {\n",
              "      --bg-color: #E8F0FE;\n",
              "      --fill-color: #1967D2;\n",
              "      --hover-bg-color: #E2EBFA;\n",
              "      --hover-fill-color: #174EA6;\n",
              "      --disabled-fill-color: #AAA;\n",
              "      --disabled-bg-color: #DDD;\n",
              "  }\n",
              "\n",
              "  [theme=dark] .colab-df-quickchart {\n",
              "      --bg-color: #3B4455;\n",
              "      --fill-color: #D2E3FC;\n",
              "      --hover-bg-color: #434B5C;\n",
              "      --hover-fill-color: #FFFFFF;\n",
              "      --disabled-bg-color: #3B4455;\n",
              "      --disabled-fill-color: #666;\n",
              "  }\n",
              "\n",
              "  .colab-df-quickchart {\n",
              "    background-color: var(--bg-color);\n",
              "    border: none;\n",
              "    border-radius: 50%;\n",
              "    cursor: pointer;\n",
              "    display: none;\n",
              "    fill: var(--fill-color);\n",
              "    height: 32px;\n",
              "    padding: 0;\n",
              "    width: 32px;\n",
              "  }\n",
              "\n",
              "  .colab-df-quickchart:hover {\n",
              "    background-color: var(--hover-bg-color);\n",
              "    box-shadow: 0 1px 2px rgba(60, 64, 67, 0.3), 0 1px 3px 1px rgba(60, 64, 67, 0.15);\n",
              "    fill: var(--button-hover-fill-color);\n",
              "  }\n",
              "\n",
              "  .colab-df-quickchart-complete:disabled,\n",
              "  .colab-df-quickchart-complete:disabled:hover {\n",
              "    background-color: var(--disabled-bg-color);\n",
              "    fill: var(--disabled-fill-color);\n",
              "    box-shadow: none;\n",
              "  }\n",
              "\n",
              "  .colab-df-spinner {\n",
              "    border: 2px solid var(--fill-color);\n",
              "    border-color: transparent;\n",
              "    border-bottom-color: var(--fill-color);\n",
              "    animation:\n",
              "      spin 1s steps(1) infinite;\n",
              "  }\n",
              "\n",
              "  @keyframes spin {\n",
              "    0% {\n",
              "      border-color: transparent;\n",
              "      border-bottom-color: var(--fill-color);\n",
              "      border-left-color: var(--fill-color);\n",
              "    }\n",
              "    20% {\n",
              "      border-color: transparent;\n",
              "      border-left-color: var(--fill-color);\n",
              "      border-top-color: var(--fill-color);\n",
              "    }\n",
              "    30% {\n",
              "      border-color: transparent;\n",
              "      border-left-color: var(--fill-color);\n",
              "      border-top-color: var(--fill-color);\n",
              "      border-right-color: var(--fill-color);\n",
              "    }\n",
              "    40% {\n",
              "      border-color: transparent;\n",
              "      border-right-color: var(--fill-color);\n",
              "      border-top-color: var(--fill-color);\n",
              "    }\n",
              "    60% {\n",
              "      border-color: transparent;\n",
              "      border-right-color: var(--fill-color);\n",
              "    }\n",
              "    80% {\n",
              "      border-color: transparent;\n",
              "      border-right-color: var(--fill-color);\n",
              "      border-bottom-color: var(--fill-color);\n",
              "    }\n",
              "    90% {\n",
              "      border-color: transparent;\n",
              "      border-bottom-color: var(--fill-color);\n",
              "    }\n",
              "  }\n",
              "</style>\n",
              "\n",
              "      <script>\n",
              "        async function quickchart(key) {\n",
              "          const quickchartButtonEl =\n",
              "            document.querySelector('#' + key + ' button');\n",
              "          quickchartButtonEl.disabled = true;  // To prevent multiple clicks.\n",
              "          quickchartButtonEl.classList.add('colab-df-spinner');\n",
              "          try {\n",
              "            const charts = await google.colab.kernel.invokeFunction(\n",
              "                'suggestCharts', [key], {});\n",
              "          } catch (error) {\n",
              "            console.error('Error during call to suggestCharts:', error);\n",
              "          }\n",
              "          quickchartButtonEl.classList.remove('colab-df-spinner');\n",
              "          quickchartButtonEl.classList.add('colab-df-quickchart-complete');\n",
              "        }\n",
              "        (() => {\n",
              "          let quickchartButtonEl =\n",
              "            document.querySelector('#df-77ba6cf6-89f3-4a57-9115-bfd5483a254f button');\n",
              "          quickchartButtonEl.style.display =\n",
              "            google.colab.kernel.accessAllowed ? 'block' : 'none';\n",
              "        })();\n",
              "      </script>\n",
              "    </div>\n",
              "\n",
              "  <div id=\"id_bcd470a8-881f-4101-87c8-dbfd3aec35b1\">\n",
              "    <style>\n",
              "      .colab-df-generate {\n",
              "        background-color: #E8F0FE;\n",
              "        border: none;\n",
              "        border-radius: 50%;\n",
              "        cursor: pointer;\n",
              "        display: none;\n",
              "        fill: #1967D2;\n",
              "        height: 32px;\n",
              "        padding: 0 0 0 0;\n",
              "        width: 32px;\n",
              "      }\n",
              "\n",
              "      .colab-df-generate:hover {\n",
              "        background-color: #E2EBFA;\n",
              "        box-shadow: 0px 1px 2px rgba(60, 64, 67, 0.3), 0px 1px 3px 1px rgba(60, 64, 67, 0.15);\n",
              "        fill: #174EA6;\n",
              "      }\n",
              "\n",
              "      [theme=dark] .colab-df-generate {\n",
              "        background-color: #3B4455;\n",
              "        fill: #D2E3FC;\n",
              "      }\n",
              "\n",
              "      [theme=dark] .colab-df-generate:hover {\n",
              "        background-color: #434B5C;\n",
              "        box-shadow: 0px 1px 3px 1px rgba(0, 0, 0, 0.15);\n",
              "        filter: drop-shadow(0px 1px 2px rgba(0, 0, 0, 0.3));\n",
              "        fill: #FFFFFF;\n",
              "      }\n",
              "    </style>\n",
              "    <button class=\"colab-df-generate\" onclick=\"generateWithVariable('df')\"\n",
              "            title=\"Generate code using this dataframe.\"\n",
              "            style=\"display:none;\">\n",
              "\n",
              "  <svg xmlns=\"http://www.w3.org/2000/svg\" height=\"24px\"viewBox=\"0 0 24 24\"\n",
              "       width=\"24px\">\n",
              "    <path d=\"M7,19H8.4L18.45,9,17,7.55,7,17.6ZM5,21V16.75L18.45,3.32a2,2,0,0,1,2.83,0l1.4,1.43a1.91,1.91,0,0,1,.58,1.4,1.91,1.91,0,0,1-.58,1.4L9.25,21ZM18.45,9,17,7.55Zm-12,3A5.31,5.31,0,0,0,4.9,8.1,5.31,5.31,0,0,0,1,6.5,5.31,5.31,0,0,0,4.9,4.9,5.31,5.31,0,0,0,6.5,1,5.31,5.31,0,0,0,8.1,4.9,5.31,5.31,0,0,0,12,6.5,5.46,5.46,0,0,0,6.5,12Z\"/>\n",
              "  </svg>\n",
              "    </button>\n",
              "    <script>\n",
              "      (() => {\n",
              "      const buttonEl =\n",
              "        document.querySelector('#id_bcd470a8-881f-4101-87c8-dbfd3aec35b1 button.colab-df-generate');\n",
              "      buttonEl.style.display =\n",
              "        google.colab.kernel.accessAllowed ? 'block' : 'none';\n",
              "\n",
              "      buttonEl.onclick = () => {\n",
              "        google.colab.notebook.generateWithVariable('df');\n",
              "      }\n",
              "      })();\n",
              "    </script>\n",
              "  </div>\n",
              "\n",
              "    </div>\n",
              "  </div>\n"
            ],
            "application/vnd.google.colaboratory.intrinsic+json": {
              "type": "dataframe",
              "variable_name": "df",
              "summary": "{\n  \"name\": \"df\",\n  \"rows\": 4,\n  \"fields\": [\n    {\n      \"column\": \"indice\",\n      \"properties\": {\n        \"dtype\": \"number\",\n        \"std\": 1,\n        \"min\": 1,\n        \"max\": 4,\n        \"num_unique_values\": 4,\n        \"samples\": [\n          2,\n          4,\n          1\n        ],\n        \"semantic_type\": \"\",\n        \"description\": \"\"\n      }\n    },\n    {\n      \"column\": \"time\",\n      \"properties\": {\n        \"dtype\": \"string\",\n        \"num_unique_values\": 4,\n        \"samples\": [\n          \"S\\u00e3o Paulo\",\n          \"Internacional\",\n          \"Cruzeiro\"\n        ],\n        \"semantic_type\": \"\",\n        \"description\": \"\"\n      }\n    },\n    {\n      \"column\": \"vitorias\",\n      \"properties\": {\n        \"dtype\": \"number\",\n        \"std\": 2,\n        \"min\": 9,\n        \"max\": 15,\n        \"num_unique_values\": 4,\n        \"samples\": [\n          10,\n          9,\n          14\n        ],\n        \"semantic_type\": \"\",\n        \"description\": \"\"\n      }\n    }\n  ]\n}"
            }
          },
          "metadata": {},
          "execution_count": 13
        }
      ]
    },
    {
      "cell_type": "code",
      "source": [
        "import matplotlib.pyplot as plt\n",
        "\n",
        "indice = df['indice']\n",
        "time = df['time']\n",
        "vitorias = df['vitorias']\n",
        "\n",
        "plt.bar(time, vitorias)\n",
        "plt.show()"
      ],
      "metadata": {
        "colab": {
          "base_uri": "https://localhost:8080/",
          "height": 430
        },
        "id": "1DUT2dWOmRCc",
        "outputId": "a60be356-e793-443e-fb78-91d83bbfe852"
      },
      "execution_count": null,
      "outputs": [
        {
          "output_type": "display_data",
          "data": {
            "text/plain": [
              "<Figure size 640x480 with 1 Axes>"
            ],
            "image/png": "[encoded data removed]"
          },
          "metadata": {}
        }
      ]
    },
    {
      "cell_type": "code",
      "source": [
        "# Estrutura com Tuplas\n",
        "#For\n",
        "\n",
        "cores = ('Vermelho', 'Verde', 'Azul')\n",
        "\n",
        "for i in range(len(cores)):\n",
        "    print(f'Indice {i} - {cores[i]}')"
      ],
      "metadata": {
        "colab": {
          "base_uri": "https://localhost:8080/"
        },
        "id": "kzh7XI3WqbYo",
        "outputId": "bb8e54e5-bd23-41f5-8426-e1a5d227c9ac"
      },
      "execution_count": null,
      "outputs": [
        {
          "output_type": "stream",
          "name": "stdout",
          "text": [
            "Indice 0 - Vermelho\n",
            "Indice 1 - Verde\n",
            "Indice 2 - Azul\n"
          ]
        }
      ]
    },
    {
      "cell_type": "code",
      "source": [
        "# While\n",
        "\n",
        "i = 0\n",
        "\n",
        "while i < len(cores):\n",
        "    print(f'Indice {i} - {cores[i]}')\n",
        "    i += 1"
      ],
      "metadata": {
        "colab": {
          "base_uri": "https://localhost:8080/"
        },
        "id": "4Tvz-JkNrEPj",
        "outputId": "c12a2bbe-99da-490c-fe36-ff98f153cbc3"
      },
      "execution_count": null,
      "outputs": [
        {
          "output_type": "stream",
          "name": "stdout",
          "text": [
            "Indice 0 - Vermelho\n",
            "Indice 1 - Verde\n",
            "Indice 2 - Azul\n"
          ]
        }
      ]
    },
    {
      "cell_type": "code",
      "source": [
        "# Exercício 1\n",
        "\n",
        "numeros = (45, 23, 56, 34, 53)\n",
        "\n",
        "soma = 0\n",
        "\n",
        "soma = sum(numeros)\n",
        "\n",
        "media = soma/len(numeros)\n",
        "\n",
        "print(f'A soma dos números é: {soma}')\n",
        "print(f'A média dos números é: {media}')"
      ],
      "metadata": {
        "colab": {
          "base_uri": "https://localhost:8080/"
        },
        "id": "z8I2pBjGr0jp",
        "outputId": "bbfc201c-3102-4ccf-a631-a646538b7086"
      },
      "execution_count": null,
      "outputs": [
        {
          "output_type": "stream",
          "name": "stdout",
          "text": [
            "A soma dos números é: 211\n",
            "A média dos números é: 42.2\n"
          ]
        }
      ]
    },
    {
      "cell_type": "code",
      "source": [
        "# Exercício 2\n",
        "\n",
        "tupla = (15, 3, 8, 22, 7)\n",
        "maior = 0\n",
        "\n",
        "for i in range(len(tupla)):\n",
        "    if tupla[i] > maior:\n",
        "        maior = tupla[i]\n",
        "\n",
        "menor = tupla[0]\n",
        "\n",
        "for i in range(len(tupla)):\n",
        "    if tupla[i] < menor:\n",
        "        menor = tupla[i]\n",
        "\n",
        "print(f'O maior número é: {maior}')\n",
        "print(f'O menor número é: {menor}')\n",
        "\n",
        "diferenca = maior - menor\n",
        "\n",
        "print(f'A diferença entre o maior e o menor número é: {diferenca}')"
      ],
      "metadata": {
        "colab": {
          "base_uri": "https://localhost:8080/"
        },
        "id": "_69qYbxkvt8O",
        "outputId": "83e7fd98-0fac-483a-fa38-7eba67e9f8a8"
      },
      "execution_count": null,
      "outputs": [
        {
          "output_type": "stream",
          "name": "stdout",
          "text": [
            "O maior número é: 22\n",
            "O menor número é: 3\n",
            "A diferença entre o maior e o menor número é: 19\n"
          ]
        }
      ]
    },
    {
      "cell_type": "code",
      "source": [
        "# Exercício 3\n",
        "\n",
        "tupla2 = (2, 5, 4)\n",
        "\n",
        "resultado = tupla2[0] * tupla2[1] * tupla2[2]\n",
        "\n",
        "print(f'O resultado da multiplicação é: {resultado}')"
      ],
      "metadata": {
        "colab": {
          "base_uri": "https://localhost:8080/"
        },
        "id": "APALKHf1xNjC",
        "outputId": "13cc9b7e-554e-440e-8f00-3814a7904bfc"
      },
      "execution_count": null,
      "outputs": [
        {
          "output_type": "stream",
          "name": "stdout",
          "text": [
            "O resultado da multiplicação é: 40\n"
          ]
        }
      ]
    },
    {
      "cell_type": "code",
      "source": [
        "# Exercício 4\n",
        "\n",
        "notas_alunos = (\n",
        "    (\"Ana\", (8, 7, 9)),\n",
        "    (\"Bruno\", (6, 5, 7)),\n",
        "    (\"Carla\", (10, 9, 8))\n",
        ")\n",
        "\n",
        "media = [0, 0, 0]\n",
        "\n",
        "for i in range(len(notas_alunos)):\n",
        "\tmedia[i] = sum(notas_alunos[i][1])/len(notas_alunos[i][1])\n",
        "\n",
        "for i in range(len(notas_alunos)):\n",
        "\tprint(f'A média do aluno(a) {notas_alunos[i][0]} é: {media[i]}')"
      ],
      "metadata": {
        "colab": {
          "base_uri": "https://localhost:8080/"
        },
        "id": "KDg3n_5-zRvJ",
        "outputId": "a0397c89-92b9-4f9f-d97b-f8a8e8bc7deb"
      },
      "execution_count": null,
      "outputs": [
        {
          "output_type": "stream",
          "name": "stdout",
          "text": [
            "A média do aluno(a) Ana é: 8.0\n",
            "A média do aluno(a) Bruno é: 6.0\n",
            "A média do aluno(a) Carla é: 9.0\n"
          ]
        }
      ]
    },
    {
      "cell_type": "code",
      "source": [
        "# Exercício 5\n",
        "\n",
        "coordenadas = (\n",
        "    (3, 4),\n",
        "    (5, 12),\n",
        "    (8, 15)\n",
        ")\n",
        "\n",
        "for x, y in coordenadas:\n",
        "    distancia = (x**2 + y**2)**0.5\n",
        "    print(f'A distância do ponto ({x}, {y}) até o ponto (0, 0) é: {distancia}')"
      ],
      "metadata": {
        "colab": {
          "base_uri": "https://localhost:8080/"
        },
        "id": "QcDbljiv_VBf",
        "outputId": "927f9b6a-e438-492f-e47b-4ab113560ec4"
      },
      "execution_count": null,
      "outputs": [
        {
          "output_type": "stream",
          "name": "stdout",
          "text": [
            "A distância do ponto (3, 4) até o ponto (0, 0) é: 5.0\n",
            "A distância do ponto (5, 12) até o ponto (0, 0) é: 13.0\n",
            "A distância do ponto (8, 15) até o ponto (0, 0) é: 17.0\n"
          ]
        }
      ]
    },
    {
      "cell_type": "code",
      "source": [
        "# Exercício 6\n",
        "\n",
        "atletas = (\n",
        "    ('João', 'Brasil', (10.5, 10.3, 10.4)),\n",
        "    ('Peter', 'Alemanha', (9.9, 10.1, 10)),\n",
        "    ('Mark', 'EUA', (11.2, 11, 11.3))\n",
        ")\n",
        "\n",
        "melhor_tempo = atletas[1][2][0]\n",
        "\n",
        "for i in range(len(atletas[1][2])):\n",
        "    if atletas[1][2][i] < melhor_tempo:\n",
        "        melhor_tempo = atletas[1][2][i]\n",
        "\n",
        "print(f\"O melhor tempo do {atletas[1][0]} é {melhor_tempo}\")\n",
        "\n",
        "print(f\"O país do {atletas[2][0]} é {atletas[2][1]}\")\n",
        "\n",
        "for nome, pais, tempo in atletas:\n",
        "    media_tempo = sum(tempo)/len(tempo)\n",
        "    print(f\"O tempo médio do {nome} é {media_tempo}\")"
      ],
      "metadata": {
        "colab": {
          "base_uri": "https://localhost:8080/"
        },
        "id": "ZC2-pSBuD9To",
        "outputId": "2e2e9367-e1df-461a-ecbc-eca7cd7d8a87"
      },
      "execution_count": null,
      "outputs": [
        {
          "output_type": "stream",
          "name": "stdout",
          "text": [
            "O melhor tempo do Peter é 9.9\n",
            "O país do Mark é EUA\n",
            "O tempo médio do João é 10.4\n",
            "O tempo médio do Peter é 10.0\n",
            "O tempo médio do Mark é 11.166666666666666\n"
          ]
        }
      ]
    },
    {
      "cell_type": "code",
      "source": [
        "# Exercício 7\n",
        "\n",
        "estoque = (\n",
        "    (\"Maça\", (2.50, 120)),\n",
        "    (\"Banana\", (1.80, 200)),\n",
        "    (\"Laranja\", (3.20, 150))\n",
        ")\n",
        "valor = [0, 0, 0]\n",
        "\n",
        "for i in range(len(estoque)):\n",
        "    valor[i] = estoque[i][1][0] * estoque[i][1][1]\n",
        "\n",
        "for i in range(len(estoque)):\n",
        "    print(f\"O valor total do estoque de {estoque[i][0]} é: {valor[i]}\")\n",
        "\n",
        "print(f\"O valor total do estoque é: {sum(valor)}\")"
      ],
      "metadata": {
        "colab": {
          "base_uri": "https://localhost:8080/"
        },
        "id": "RzKf-Y_HLNKv",
        "outputId": "9ff6ded4-92ce-43bb-c2c8-a9b87cb77bf4"
      },
      "execution_count": 47,
      "outputs": [
        {
          "output_type": "stream",
          "name": "stdout",
          "text": [
            "O valor total do estoque de Maça é: 300.0\n",
            "O valor total do estoque de Banana é: 360.0\n",
            "O valor total do estoque de Laranja é: 480.0\n",
            "O valor total do estoque é: 1140.0\n"
          ]
        }
      ]
    }
  ]
}