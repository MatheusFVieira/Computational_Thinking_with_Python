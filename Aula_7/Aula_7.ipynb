{
  "nbformat": 4,
  "nbformat_minor": 0,
  "metadata": {
    "colab": {
      "provenance": []
    },
    "kernelspec": {
      "name": "python3",
      "display_name": "Python 3"
    },
    "language_info": {
      "name": "python"
    }
  },
  "cells": [
    {
      "cell_type": "code",
      "execution_count": 11,
      "metadata": {
        "colab": {
          "base_uri": "https://localhost:8080/"
        },
        "id": "1lSVh1203xLY",
        "outputId": "828d3109-ce87-46b7-aff1-2934053f0920"
      },
      "outputs": [
        {
          "output_type": "stream",
          "name": "stdout",
          "text": [
            "Digite sua fruta favorita: maça\n",
            "Digite sua fruta favorita: uva\n",
            "Digite sua fruta favorita: laranja\n",
            "Digite sua fruta favorita: abacaxi\n",
            "Digite sua fruta favorita: manga\n",
            "['maça', 'uva', 'laranja', 'abacaxi', 'manga']\n"
          ]
        }
      ],
      "source": [
        "# Ex.1\n",
        "\n",
        "lista_frutas = []\n",
        "\n",
        "for k in range(5):\n",
        "    frutas = input(\"Digite sua fruta favorita: \")\n",
        "    lista_frutas.append(frutas)\n",
        "print(lista_frutas)\n"
      ]
    },
    {
      "cell_type": "code",
      "source": [
        "# Ex.2\n",
        "\n",
        "lista_nomes = []\n",
        "lista_cpf = []\n",
        "\n",
        "for k in range(5):\n",
        "    nome = input(\"Digite seu nome: \")\n",
        "    cpf = input(\"Digite seu cpf: \")\n",
        "    lista_nomes.append(nome)\n",
        "    lista_cpf.append(cpf)\n",
        "\n",
        "print(lista_nomes)\n",
        "print(lista_cpf)"
      ],
      "metadata": {
        "colab": {
          "base_uri": "https://localhost:8080/"
        },
        "id": "NUDUu-3e4TgY",
        "outputId": "fc2fe6b0-d5fe-4879-9bfc-28f244fe91b0"
      },
      "execution_count": 8,
      "outputs": [
        {
          "output_type": "stream",
          "name": "stdout",
          "text": [
            "Digite seu nome: matheus\n",
            "Digite seu cpf: 123\n",
            "Digite seu nome: livia\n",
            "Digite seu cpf: 456\n",
            "Digite seu nome: leila\n",
            "Digite seu cpf: 789\n",
            "Digite seu nome: gabriel\n",
            "Digite seu cpf: 012\n",
            "Digite seu nome: tom\n",
            "Digite seu cpf: 345\n",
            "['matheus', 'livia', 'leila', 'gabriel', 'tom']\n",
            "['123', '456', '789', '012', '345']\n"
          ]
        }
      ]
    },
    {
      "cell_type": "code",
      "source": [
        "# Ex.3\n",
        "\n",
        "lista_frutas = ['maça', 'laranja', 'banana']\n",
        "\n",
        "for i in range (len(lista_frutas)):\n",
        "    print(f\"Fruta {i}: {lista_frutas[i]}\")"
      ],
      "metadata": {
        "colab": {
          "base_uri": "https://localhost:8080/"
        },
        "id": "SYmFE4aA6rO6",
        "outputId": "fe90116c-1648-4c4f-f1cc-3b755624a344"
      },
      "execution_count": 17,
      "outputs": [
        {
          "output_type": "stream",
          "name": "stdout",
          "text": [
            "Fruta 0: maça\n",
            "Fruta 1: laranja\n",
            "Fruta 2: banana\n"
          ]
        }
      ]
    },
    {
      "cell_type": "code",
      "source": [
        "# Ex.4\n",
        "\n",
        "texto = 'python'\n",
        "for letra in texto:\n",
        "    print(letra)"
      ],
      "metadata": {
        "colab": {
          "base_uri": "https://localhost:8080/"
        },
        "id": "76a43kqP8NRm",
        "outputId": "4eea87a1-8a87-44f6-9542-e41c2c0edfa4"
      },
      "execution_count": 19,
      "outputs": [
        {
          "output_type": "stream",
          "name": "stdout",
          "text": [
            "p\n",
            "y\n",
            "t\n",
            "h\n",
            "o\n",
            "n\n"
          ]
        }
      ]
    },
    {
      "cell_type": "code",
      "source": [
        "# Ex.5\n",
        "\n",
        "numeros = [2, 4, 6, 8]\n",
        "soma = 0\n",
        "\n",
        "for k in numeros:\n",
        "    soma += k\n",
        "    print(soma)"
      ],
      "metadata": {
        "colab": {
          "base_uri": "https://localhost:8080/"
        },
        "id": "j9joZGf28nv2",
        "outputId": "c6281667-2f1b-4973-b26a-05bb99d23ef0"
      },
      "execution_count": 22,
      "outputs": [
        {
          "output_type": "stream",
          "name": "stdout",
          "text": [
            "2\n",
            "6\n",
            "12\n",
            "20\n"
          ]
        }
      ]
    },
    {
      "cell_type": "code",
      "source": [
        "# Ex.6\n",
        "\n",
        "numeros = [2, 4, 6, 8]\n",
        "\n",
        "for k in numeros:\n",
        "    quadrado = k ** 2\n",
        "    print(f\"O quadrado de {k} é {quadrado}\")"
      ],
      "metadata": {
        "colab": {
          "base_uri": "https://localhost:8080/"
        },
        "id": "Mynx4H3T9uWn",
        "outputId": "0ec6cb19-692d-40e5-8e8a-cbf26dc3c2f8"
      },
      "execution_count": 23,
      "outputs": [
        {
          "output_type": "stream",
          "name": "stdout",
          "text": [
            "O quadrado de 2 é 4\n",
            "O quadrado de 4 é 16\n",
            "O quadrado de 6 é 36\n",
            "O quadrado de 8 é 64\n"
          ]
        }
      ]
    },
    {
      "cell_type": "code",
      "source": [
        "# Ex.7\n",
        "\n",
        "palavras = ['casa', 'computador', 'sol', 'programção']\n",
        "lista_longas = []\n",
        "\n",
        "for i in palavras:\n",
        "    if len(i) >= 5:\n",
        "        lista_longas.append(i)\n",
        "print(lista_longas)"
      ],
      "metadata": {
        "colab": {
          "base_uri": "https://localhost:8080/"
        },
        "id": "YRLXMYID-B5e",
        "outputId": "756993e4-5f70-4870-e3ce-9201fb6cf953"
      },
      "execution_count": 44,
      "outputs": [
        {
          "output_type": "stream",
          "name": "stdout",
          "text": [
            "['computador', 'programção']\n"
          ]
        }
      ]
    },
    {
      "cell_type": "code",
      "source": [
        "# Ex.8\n",
        "\n",
        "lista = [1, 4, 7, 10, 13, 16]\n",
        "soma = 0\n",
        "\n",
        "for k in lista:\n",
        "    if k % 2 == 0:\n",
        "        soma += k\n",
        "print(soma)"
      ],
      "metadata": {
        "colab": {
          "base_uri": "https://localhost:8080/"
        },
        "id": "bq1keM3EBJ8V",
        "outputId": "1dfef681-a85e-4d11-b2ca-25905223e91e"
      },
      "execution_count": 45,
      "outputs": [
        {
          "output_type": "stream",
          "name": "stdout",
          "text": [
            "30\n"
          ]
        }
      ]
    },
    {
      "cell_type": "code",
      "source": [
        "# Ex.9\n",
        "\n",
        "lista_A = [1, 4, 7, 10, 13, 16]\n",
        "lista_B = [6, 13, 10, 7, 4, 1]\n",
        "\n",
        "lista_nova = []\n",
        "\n",
        "lista_nova.append([lista_A, lista_B])\n",
        "print(lista_nova)\n",
        "\n",
        "print(lista_nova[0][1])"
      ],
      "metadata": {
        "colab": {
          "base_uri": "https://localhost:8080/"
        },
        "id": "1HJ_qupdDMYJ",
        "outputId": "9bfa839a-b39f-4ca2-dac0-57179ef72f86"
      },
      "execution_count": 53,
      "outputs": [
        {
          "output_type": "stream",
          "name": "stdout",
          "text": [
            "[[[1, 4, 7, 10, 13, 16], [6, 13, 10, 7, 4, 1]]]\n",
            "[6, 13, 10, 7, 4, 1]\n"
          ]
        }
      ]
    },
    {
      "cell_type": "code",
      "source": [
        "# Exercício 1\n",
        "\n",
        "lista_produtos = []\n",
        "lista_valores = []\n",
        "\n",
        "for k in range(5):\n",
        "    produto = input(\"Digite o nome do produto: \")\n",
        "    valor = float(input(\"Digite o valor do produto: \"))\n",
        "    lista_produtos.append(produto)\n",
        "    lista_valores.append(valor)\n",
        "\n",
        "for i in range(len(lista_produtos)):\n",
        "    print(f\"Produto: {lista_produtos[i]} - Valor: {lista_valores[i]}\")\n",
        "\n",
        "soma = 0\n",
        "\n",
        "for k in lista_valores:\n",
        "    soma += k\n",
        "print(f\"Soma dos valores: {soma}\")"
      ],
      "metadata": {
        "colab": {
          "base_uri": "https://localhost:8080/"
        },
        "id": "eY6Rzz6ALsPZ",
        "outputId": "c4a0904c-592e-44cc-e4a2-fe28560d4e6d"
      },
      "execution_count": 55,
      "outputs": [
        {
          "output_type": "stream",
          "name": "stdout",
          "text": [
            "Digite o nome do produto: Arroz\n",
            "Digite o valor do produto: 15\n",
            "Digite o nome do produto: Feijão\n",
            "Digite o valor do produto: 10\n",
            "Digite o nome do produto: Batata\n",
            "Digite o valor do produto: 5\n",
            "Digite o nome do produto: Frango\n",
            "Digite o valor do produto: 20\n",
            "Digite o nome do produto: Carne\n",
            "Digite o valor do produto: 35\n",
            "Produto: Arroz - Valor: 15.0\n",
            "Produto: Feijão - Valor: 10.0\n",
            "Produto: Batata - Valor: 5.0\n",
            "Produto: Frango - Valor: 20.0\n",
            "Produto: Carne - Valor: 35.0\n",
            "Soma dos valores: 85.0\n"
          ]
        }
      ]
    },
    {
      "cell_type": "code",
      "source": [
        "# Exercício 2\n",
        "\n",
        "lista_nome = []\n",
        "lista_salario = []\n",
        "salario_desconto = []\n",
        "\n",
        "for k in range(5):\n",
        "    nome = input(\"Digite seu nome: \")\n",
        "    salario = float(input(\"Digite seu salário: \"))\n",
        "    lista_nome.append(nome)\n",
        "    lista_salario.append(salario)\n",
        "\n",
        "for i in range(len(lista_nome)):\n",
        "    if lista_salario[i] <= 1500:\n",
        "        salario_desc = lista_salario[i] * 0.95\n",
        "        salario_desconto.append(salario_desc)\n",
        "    elif lista_salario[i] <= 3000:\n",
        "        salario_desc = lista_salario[i] * 0.9\n",
        "        salario_desconto.append(salario_desc)\n",
        "    elif lista_salario[i] > 3000:\n",
        "        salario_desc = lista_salario[i] * 0.85\n",
        "        salario_desconto.append(salario_desc)\n",
        "\n",
        "print(lista_nome)\n",
        "print(salario_desconto)\n",
        "\n",
        "for k in range(len(lista_nome)):\n",
        "    print(f\"Nome: {lista_nome[k]} - Salário após o desconto: {salario_desconto[k]}\")"
      ],
      "metadata": {
        "colab": {
          "base_uri": "https://localhost:8080/"
        },
        "id": "vvVMy2bpMiyS",
        "outputId": "99398536-a930-4d0a-d83c-e4a6d2739ca4"
      },
      "execution_count": 60,
      "outputs": [
        {
          "output_type": "stream",
          "name": "stdout",
          "text": [
            "Digite seu nome: Matheus\n",
            "Digite seu salário: 3500\n",
            "Digite seu nome: Livia\n",
            "Digite seu salário: 2000\n",
            "Digite seu nome: Fia\n",
            "Digite seu salário: 1500\n",
            "Digite seu nome: Leila\n",
            "Digite seu salário: 5000\n",
            "Digite seu nome: Gabriel\n",
            "Digite seu salário: 10000\n",
            "['Matheus', 'Livia', 'Fia', 'Leila', 'Gabriel']\n",
            "[2975.0, 1800.0, 1425.0, 4250.0, 8500.0]\n",
            "Nome: Matheus - Salário após o desconto: 2975.0\n",
            "Nome: Livia - Salário após o desconto: 1800.0\n",
            "Nome: Fia - Salário após o desconto: 1425.0\n",
            "Nome: Leila - Salário após o desconto: 4250.0\n",
            "Nome: Gabriel - Salário após o desconto: 8500.0\n"
          ]
        }
      ]
    }
  ]
}