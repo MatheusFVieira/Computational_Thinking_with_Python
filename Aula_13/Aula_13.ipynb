{
  "nbformat": 4,
  "nbformat_minor": 0,
  "metadata": {
    "colab": {
      "provenance": []
    },
    "kernelspec": {
      "name": "python3",
      "display_name": "Python 3"
    },
    "language_info": {
      "name": "python"
    }
  },
  "cells": [
    {
      "cell_type": "code",
      "execution_count": 7,
      "metadata": {
        "colab": {
          "base_uri": "https://localhost:8080/"
        },
        "id": "I4JCodwGmqwG",
        "outputId": "558b0373-baff-4947-f097-1d13714313c5"
      },
      "outputs": [
        {
          "output_type": "stream",
          "name": "stdout",
          "text": [
            "Digite um número inteiro não negativo: 5\n",
            "O fatorial de 5 é 120\n"
          ]
        }
      ],
      "source": [
        "# Recursão\n",
        "\n",
        "def fatorial_recursivo(n):\n",
        "  if n == 0:\n",
        "    return 1\n",
        "  else:\n",
        "    return n * fatorial_recursivo(n-1)\n",
        "\n",
        "numero = int(input(\"Digite um número inteiro não negativo: \"))\n",
        "resultado = fatorial_recursivo(numero)\n",
        "print(f\"O fatorial de {numero} é {resultado}\")"
      ]
    },
    {
      "cell_type": "code",
      "source": [
        "# Função encadeada\n",
        "\n",
        "def func3(n2):\n",
        "  return n2 + 3\n",
        "\n",
        "def func2(n1):\n",
        "  return func3(n1+2)\n",
        "\n",
        "def func1(n):\n",
        "  return func2(n+1)\n",
        "\n",
        "print(func1(0))"
      ],
      "metadata": {
        "colab": {
          "base_uri": "https://localhost:8080/"
        },
        "id": "woF5vzMQpPxH",
        "outputId": "a05798aa-38ad-4d08-bcb9-9b6641032f21"
      },
      "execution_count": 11,
      "outputs": [
        {
          "output_type": "stream",
          "name": "stdout",
          "text": [
            "6\n"
          ]
        }
      ]
    },
    {
      "cell_type": "code",
      "source": [
        "def funcao1(palavra):\n",
        "    return funcao2(palavra + ' é legal!')\n",
        "\n",
        "def funcao2(palavra):\n",
        "    return funcao3(palavra.upper())\n",
        "\n",
        "def funcao3(palavra):\n",
        "    return palavra[::-1]\n",
        "\n",
        "print(funcao1('python'))"
      ],
      "metadata": {
        "colab": {
          "base_uri": "https://localhost:8080/"
        },
        "id": "agtlALTXtOJx",
        "outputId": "61ba76cd-f837-4a59-f336-175b527550a6"
      },
      "execution_count": 18,
      "outputs": [
        {
          "output_type": "stream",
          "name": "stdout",
          "text": [
            "!LAGEL É NOHTYP\n"
          ]
        }
      ]
    },
    {
      "cell_type": "code",
      "source": [
        "def f1(n):\n",
        "  return f2(n*2)\n",
        "\n",
        "def f2(n):\n",
        "  return f3(n+10)\n",
        "\n",
        "def f3(n):\n",
        "  return n//2\n",
        "\n",
        "print(f1(4))"
      ],
      "metadata": {
        "colab": {
          "base_uri": "https://localhost:8080/"
        },
        "id": "q7iHq-vKxZgJ",
        "outputId": "32cbf620-e486-42b6-a41d-9c54920454e9"
      },
      "execution_count": 29,
      "outputs": [
        {
          "output_type": "stream",
          "name": "stdout",
          "text": [
            "9\n"
          ]
        }
      ]
    },
    {
      "cell_type": "code",
      "source": [
        "def fu1(lista):\n",
        "  lista.append(10)\n",
        "  return fu2(lista)\n",
        "\n",
        "def fu2(lista):\n",
        "  for i in range(len(lista)):\n",
        "    lista[i] = lista[i] * 2\n",
        "  return fu3(lista)\n",
        "\n",
        "def fu3(lista):\n",
        "  return lista[::-1]\n",
        "\n",
        "lista = [1, 2, 3]\n",
        "\n",
        "print(fu1(lista))"
      ],
      "metadata": {
        "colab": {
          "base_uri": "https://localhost:8080/"
        },
        "id": "6egjjwJSyGQR",
        "outputId": "7741a11c-41a5-4b6b-ec5a-2e56317625fb"
      },
      "execution_count": 28,
      "outputs": [
        {
          "output_type": "stream",
          "name": "stdout",
          "text": [
            "[20, 6, 4, 2]\n"
          ]
        }
      ]
    }
  ]
}