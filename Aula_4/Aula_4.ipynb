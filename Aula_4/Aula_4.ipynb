{
  "nbformat": 4,
  "nbformat_minor": 0,
  "metadata": {
    "colab": {
      "provenance": []
    },
    "kernelspec": {
      "name": "python3",
      "display_name": "Python 3"
    },
    "language_info": {
      "name": "python"
    }
  },
  "cells": [
    {
      "cell_type": "code",
      "execution_count": 3,
      "metadata": {
        "colab": {
          "base_uri": "https://localhost:8080/"
        },
        "id": "ir-EueP-somZ",
        "outputId": "6de6c6ee-279a-420b-c311-86a7723ad165"
      },
      "outputs": [
        {
          "output_type": "stream",
          "name": "stdout",
          "text": [
            "0\n",
            "1\n",
            "2\n",
            "3\n",
            "4\n",
            "5\n",
            "6\n",
            "7\n",
            "8\n",
            "9\n"
          ]
        }
      ],
      "source": [
        "# Ex.1\n",
        "\n",
        "for nome in range(10):\n",
        "  print(nome)"
      ]
    },
    {
      "cell_type": "code",
      "source": [
        "# Ex.2\n",
        "\n",
        "for numero in range(1,11):\n",
        "  print(numero)"
      ],
      "metadata": {
        "colab": {
          "base_uri": "https://localhost:8080/"
        },
        "id": "0q1M9YHCtHLo",
        "outputId": "be0ca14a-b114-42d6-8da3-3933e87dc861"
      },
      "execution_count": 4,
      "outputs": [
        {
          "output_type": "stream",
          "name": "stdout",
          "text": [
            "1\n",
            "2\n",
            "3\n",
            "4\n",
            "5\n",
            "6\n",
            "7\n",
            "8\n",
            "9\n",
            "10\n"
          ]
        }
      ]
    },
    {
      "cell_type": "code",
      "source": [
        "# Ex.3\n",
        "\n",
        "for k in range(1, 11, 2):\n",
        "  print(k)"
      ],
      "metadata": {
        "colab": {
          "base_uri": "https://localhost:8080/"
        },
        "id": "4bptPCtYtIQO",
        "outputId": "d5b3f247-0911-49d7-ad12-0eb0d8437b98"
      },
      "execution_count": 5,
      "outputs": [
        {
          "output_type": "stream",
          "name": "stdout",
          "text": [
            "1\n",
            "3\n",
            "5\n",
            "7\n",
            "9\n"
          ]
        }
      ]
    },
    {
      "cell_type": "code",
      "source": [
        "# Ex.4\n",
        "\n",
        "for k in range(3):\n",
        "  nome = input(\"Digite seu nome: \")\n",
        "  print(nome)\n",
        "  cpf = int(input(\"Digite seu CPF: \"))\n",
        "  print(cpf)"
      ],
      "metadata": {
        "colab": {
          "base_uri": "https://localhost:8080/"
        },
        "id": "aFmB9114tSMv",
        "outputId": "9ad9a237-8516-44df-8313-fe3ba9525290"
      },
      "execution_count": 9,
      "outputs": [
        {
          "output_type": "stream",
          "name": "stdout",
          "text": [
            "Digite seu nome: Matheus\n",
            "Matheus\n",
            "Digite seu CPF: 846846\n",
            "846846\n",
            "Digite seu nome: Lívia\n",
            "Lívia\n",
            "Digite seu CPF: 546544\n",
            "546544\n",
            "Digite seu nome: Tom\n",
            "Tom\n",
            "Digite seu CPF: 546454\n",
            "546454\n"
          ]
        }
      ]
    },
    {
      "cell_type": "code",
      "source": [
        "# Ex.5\n",
        "\n",
        "entrada = input(\"Digite uma palavra: \")\n",
        "for i in entrada:\n",
        "  print(\"Caractere\", i)\n"
      ],
      "metadata": {
        "colab": {
          "base_uri": "https://localhost:8080/"
        },
        "id": "i2nTrdRduxlY",
        "outputId": "c065ae24-daba-433e-ba7a-125a552c907a"
      },
      "execution_count": 10,
      "outputs": [
        {
          "output_type": "stream",
          "name": "stdout",
          "text": [
            "Digite uma palavra: fiap\n",
            "Caractere f\n",
            "Caractere i\n",
            "Caractere a\n",
            "Caractere p\n"
          ]
        }
      ]
    },
    {
      "cell_type": "code",
      "source": [
        "# Ex.6\n",
        "\n",
        "for i in range (1, 11):\n",
        "  if i == 5:\n",
        "    print(\"Valor encontrado\", i)\n",
        "    break"
      ],
      "metadata": {
        "colab": {
          "base_uri": "https://localhost:8080/"
        },
        "id": "PO6LyCD4wzAj",
        "outputId": "fafbd149-611e-4c84-813b-a47d5ba6df75"
      },
      "execution_count": 11,
      "outputs": [
        {
          "output_type": "stream",
          "name": "stdout",
          "text": [
            "Valor encontrado 5\n"
          ]
        }
      ]
    },
    {
      "cell_type": "code",
      "source": [
        "# Ex.7\n",
        "\n",
        "for k in range(1, 6):\n",
        "  if k == 3:\n",
        "    continue\n",
        "  print(\"Interação\", k)"
      ],
      "metadata": {
        "colab": {
          "base_uri": "https://localhost:8080/"
        },
        "id": "M3cx-gX5x2Wy",
        "outputId": "5023bb20-d3ac-4230-8581-8e1cb2500058"
      },
      "execution_count": 18,
      "outputs": [
        {
          "output_type": "stream",
          "name": "stdout",
          "text": [
            "Interação 1\n",
            "Interação 2\n",
            "Interação 4\n",
            "Interação 5\n"
          ]
        }
      ]
    },
    {
      "cell_type": "code",
      "source": [
        "# Ex.8\n",
        "\n",
        "for numero in range(1, 5):\n",
        "  num =  numero ** 2\n",
        "  print(num)"
      ],
      "metadata": {
        "colab": {
          "base_uri": "https://localhost:8080/"
        },
        "id": "WMlBPEZHybEU",
        "outputId": "09de6a4b-3499-4678-c854-1cbb0c026c92"
      },
      "execution_count": 19,
      "outputs": [
        {
          "output_type": "stream",
          "name": "stdout",
          "text": [
            "1\n",
            "4\n",
            "9\n",
            "16\n"
          ]
        }
      ]
    },
    {
      "cell_type": "code",
      "source": [
        "soma_quadrados = 0\n",
        "\n",
        "for k in range(1, 6):\n",
        "  quadrado = k ** 2\n",
        "  soma_quadrados += quadrado\n",
        "  print(soma_quadrados)"
      ],
      "metadata": {
        "colab": {
          "base_uri": "https://localhost:8080/"
        },
        "id": "f1rN7B-rzIEe",
        "outputId": "311ee405-679a-4314-aaf4-1d7f779a4270"
      },
      "execution_count": 21,
      "outputs": [
        {
          "output_type": "stream",
          "name": "stdout",
          "text": [
            "1\n",
            "5\n",
            "14\n",
            "30\n",
            "55\n"
          ]
        }
      ]
    },
    {
      "cell_type": "code",
      "source": [
        "# Ex.9\n",
        "\n",
        "soma_quadrados = 0\n",
        "\n",
        "for k in range(1, 5):\n",
        "  quadrado = k ** 2\n",
        "  soma_quadrados += quadrado\n",
        "media = soma_quadrados / 4\n",
        "print(media)"
      ],
      "metadata": {
        "colab": {
          "base_uri": "https://localhost:8080/"
        },
        "id": "LgRY9GES0MvD",
        "outputId": "8ae52b6f-3290-4eb8-b41f-5daf03902c16"
      },
      "execution_count": 25,
      "outputs": [
        {
          "output_type": "stream",
          "name": "stdout",
          "text": [
            "7.5\n"
          ]
        }
      ]
    }
  ]
}