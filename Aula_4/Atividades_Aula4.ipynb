{
  "nbformat": 4,
  "nbformat_minor": 0,
  "metadata": {
    "colab": {
      "provenance": []
    },
    "kernelspec": {
      "name": "python3",
      "display_name": "Python 3"
    },
    "language_info": {
      "name": "python"
    }
  },
  "cells": [
    {
      "cell_type": "code",
      "execution_count": 31,
      "metadata": {
        "colab": {
          "base_uri": "https://localhost:8080/"
        },
        "id": "YGE4adiU1G6a",
        "outputId": "20ff0c10-e9e2-4a42-cac9-67742111d58e"
      },
      "outputs": [
        {
          "output_type": "stream",
          "name": "stdout",
          "text": [
            "8\n",
            "64\n",
            "216\n",
            "512\n",
            "1000\n"
          ]
        }
      ],
      "source": [
        "# Exercício 1\n",
        "\n",
        "for numero in range(2, 12, 2):\n",
        "  elevado = numero ** 3\n",
        "  print(elevado)"
      ]
    },
    {
      "cell_type": "code",
      "source": [
        "# Exercício 2\n",
        "\n",
        "valor_total = 0\n",
        "\n",
        "for numero in range(0, 5):\n",
        "  v = float(input(f\"Digite o valor do produto {numero+1}: \"))\n",
        "  valor_total += v\n",
        "\n",
        "print(f\"Valor total da compra R${valor_total: .2f}\")\n",
        "media = valor_total / 5\n",
        "print(f\"Valor medio dos produtos R${media: .2f}\")"
      ],
      "metadata": {
        "colab": {
          "base_uri": "https://localhost:8080/"
        },
        "id": "HYxYn8tZBpYt",
        "outputId": "4096afb9-01c0-41b9-b33e-d8c637e3b970"
      },
      "execution_count": 40,
      "outputs": [
        {
          "output_type": "stream",
          "name": "stdout",
          "text": [
            "Digite o valor do produto 1: 21.25\n",
            "Digite o valor do produto 2: 35\n",
            "Digite o valor do produto 3: 45\n",
            "Digite o valor do produto 4: 12\n",
            "Digite o valor do produto 5: 78\n",
            "Valor total da compra R$ 191.25\n",
            "Valor medio dos produtos R$ 38.25\n"
          ]
        }
      ]
    },
    {
      "cell_type": "code",
      "source": [
        "# Exercício 3\n",
        "\n",
        "num = int(input(\"Digite um número para ver sua tabuada: \"))\n",
        "\n",
        "for i in range(1, 11):\n",
        "  print(f\"{num} x {i} = {num * i}\")\n"
      ],
      "metadata": {
        "colab": {
          "base_uri": "https://localhost:8080/"
        },
        "id": "UL5N955S2QA3",
        "outputId": "8c65949c-39b7-4906-8f34-8f0924c34139"
      },
      "execution_count": 30,
      "outputs": [
        {
          "output_type": "stream",
          "name": "stdout",
          "text": [
            "Digite um número para ver sua tabuada: 8\n",
            "8 x 1 = 8\n",
            "8 x 2 = 16\n",
            "8 x 3 = 24\n",
            "8 x 4 = 32\n",
            "8 x 5 = 40\n",
            "8 x 6 = 48\n",
            "8 x 7 = 56\n",
            "8 x 8 = 64\n",
            "8 x 9 = 72\n",
            "8 x 10 = 80\n"
          ]
        }
      ]
    },
    {
      "cell_type": "code",
      "source": [
        "# Exercício 4\n",
        "\n",
        "num =  int(input(\"Digite a quantidade de temperaturas em fahrenheit você deseja converter: \"))\n",
        "\n",
        "for i in range(num):\n",
        "  f = float(input(f\"Digite a temperatura {i+1} em fahrenheit: \"))\n",
        "  c =  5 / 9 * (f - 32)\n",
        "  print(f\"A temperatura {f} em fahrenheit equivale a {c: .2f} em celsius\")"
      ],
      "metadata": {
        "colab": {
          "base_uri": "https://localhost:8080/"
        },
        "id": "FDuFEjj2Cqmp",
        "outputId": "eab37c78-6a84-43b8-e3b5-70a5705bfbaa"
      },
      "execution_count": 57,
      "outputs": [
        {
          "output_type": "stream",
          "name": "stdout",
          "text": [
            "Digite a quantidade de temperaturas em fahrenheit você deseja converter: 3\n",
            "Digite a temperatura 1 em fahrenheit: 95\n",
            "A temperatura 95.0 em fahrenheit equivale a  35.00 em celsius\n",
            "Digite a temperatura 2 em fahrenheit: 70\n",
            "A temperatura 70.0 em fahrenheit equivale a  21.11 em celsius\n",
            "Digite a temperatura 3 em fahrenheit: 60\n",
            "A temperatura 60.0 em fahrenheit equivale a  15.56 em celsius\n"
          ]
        }
      ]
    },
    {
      "cell_type": "code",
      "source": [
        "# Exercício 5\n",
        "\n",
        "lista1 = ['a', 'b', 'c']\n",
        "lista2 = ['x', 'y', 'z']\n",
        "\n",
        "for i in lista1:\n",
        "  if i == 'b' or i == 'c':\n",
        "    print(i)\n",
        "    break"
      ],
      "metadata": {
        "colab": {
          "base_uri": "https://localhost:8080/"
        },
        "id": "2QEfF88CFScG",
        "outputId": "ae1b1fc9-84bf-4e77-84b1-b9206da9eb17"
      },
      "execution_count": 61,
      "outputs": [
        {
          "output_type": "stream",
          "name": "stdout",
          "text": [
            "b\n"
          ]
        }
      ]
    },
    {
      "cell_type": "code",
      "source": [
        "# Exercício 6\n",
        "\n",
        "palavra = 'banana'\n",
        "alvo = 'a'\n",
        "contador = 0\n",
        "\n",
        "for letra in palavra:\n",
        "  if letra == alvo:\n",
        "    contador += 1\n",
        "\n",
        "print(f\"A letra '{alvo}' aparece {contador} vezes na palavra '{palavra}'.\")"
      ],
      "metadata": {
        "colab": {
          "base_uri": "https://localhost:8080/"
        },
        "id": "G00vfo0xMfoD",
        "outputId": "bf9c643d-69e5-4eaa-c64f-63277ff1e3e9"
      },
      "execution_count": 66,
      "outputs": [
        {
          "output_type": "stream",
          "name": "stdout",
          "text": [
            "A letra 'a' aparece 3 vezes na palavra 'banana'.\n"
          ]
        }
      ]
    },
    {
      "cell_type": "code",
      "source": [
        "# Exercício 7\n",
        "\n",
        "frase = input(\"Digite uma frase: \")\n",
        "letra_alvo = input(\"Digite a letra alvo: \")\n",
        "contador = 0\n",
        "\n",
        "for letra in frase:\n",
        "  if letra == letra_alvo:\n",
        "    contador += 1\n",
        "\n",
        "print(contador)"
      ],
      "metadata": {
        "colab": {
          "base_uri": "https://localhost:8080/"
        },
        "id": "qoK_KdvpNJDy",
        "outputId": "0c2fb71f-7379-42bf-e258-4464057a3021"
      },
      "execution_count": 67,
      "outputs": [
        {
          "output_type": "stream",
          "name": "stdout",
          "text": [
            "Digite uma frase: matheus freitas vieira\n",
            "Digite a letra alvo: i\n",
            "3\n"
          ]
        }
      ]
    },
    {
      "cell_type": "code",
      "source": [
        "# Exercício 8\n",
        "\n",
        "usuarios = {}\n",
        "\n",
        "for i in range(3):\n",
        "  user = input(\"Digite o usuário que deseja criar:\\n\")\n",
        "  senha = input(\"Crie a senha para esse usuário:\\n\")\n",
        "  usuarios[user] = senha\n",
        "\n",
        "userT = input(\"Digite o usuário que deseja acessar:\\n\")\n",
        "if userT in usuarios:\n",
        "  senhaT = input(\"Digite a sua senha:\\n\")\n",
        "  if senhaT == usuarios[userT]:\n",
        "    print(\"Bem-vindo ao sistema!\\n\")\n",
        "  else:\n",
        "    print(\"Senha incorreta!\\n\")\n",
        "else:\n",
        "  print(\"Usuário não encontrado!\\n\")"
      ],
      "metadata": {
        "colab": {
          "base_uri": "https://localhost:8080/"
        },
        "id": "OueoerJ8N0zc",
        "outputId": "ae6571a7-28b5-408b-996f-c983c4982841"
      },
      "execution_count": 73,
      "outputs": [
        {
          "output_type": "stream",
          "name": "stdout",
          "text": [
            "Digite o usuário que deseja criar:\n",
            "matheus\n",
            "Crie a senha para esse usuário:\n",
            "123\n",
            "Digite o usuário que deseja criar:\n",
            "teste\n",
            "Crie a senha para esse usuário:\n",
            "456\n",
            "Digite o usuário que deseja criar:\n",
            "teste1\n",
            "Crie a senha para esse usuário:\n",
            "789\n",
            "Digite o usuário que deseja acessar:\n",
            "matheus\n",
            "Digite a sua senha:\n",
            "456\n",
            "Senha incorreta!\n",
            "\n"
          ]
        }
      ]
    }
  ]
}