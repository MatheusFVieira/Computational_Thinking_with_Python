{
  "nbformat": 4,
  "nbformat_minor": 0,
  "metadata": {
    "colab": {
      "provenance": []
    },
    "kernelspec": {
      "name": "python3",
      "display_name": "Python 3"
    },
    "language_info": {
      "name": "python"
    }
  },
  "cells": [
    {
      "cell_type": "code",
      "execution_count": null,
      "metadata": {
        "colab": {
          "base_uri": "https://localhost:8080/"
        },
        "id": "vP_9S_HSk4Ek",
        "outputId": "c7e7a3b5-b46e-427f-bf1d-2c72395e60f9"
      },
      "outputs": [
        {
          "output_type": "stream",
          "name": "stdout",
          "text": [
            "Digite seu nome: Matheus\n",
            "Digite sua idade: 18\n",
            "Digite seu cep: 68767468768\n",
            "Digite seu nome: fhbrigbjfg\n",
            "Digite sua idade: 54\n",
            "Digite seu cep: 687654687\n",
            "['Matheus', 'fhbrigbjfg']\n",
            "[18, 54]\n",
            "[68767468768, 687654687]\n"
          ]
        }
      ],
      "source": [
        "# Ex.1\n",
        "\n",
        "lista_nome = []\n",
        "lista_idade = []\n",
        "lista_ceps = []\n",
        "\n",
        "for i in range(2):\n",
        "  nome = input(\"Digite seu nome: \")\n",
        "  idade = int(input(\"Digite sua idade: \"))\n",
        "  cep = int(input(\"Digite seu cep: \"))\n",
        "\n",
        "  lista_nome.append(nome)\n",
        "  lista_idade.append(idade)\n",
        "  lista_ceps.append(cep)\n",
        "\n",
        "print(lista_nome)\n",
        "print(lista_idade)\n",
        "print(lista_ceps)"
      ]
    },
    {
      "cell_type": "code",
      "source": [
        "# Ex.2\n",
        "\n",
        "lista_dados = [[], [], []]\n",
        "i=0\n",
        "\n",
        "while i < 2:\n",
        "  nome = input(\"Digite seu nome: \")\n",
        "  idade = int(input(\"Digite sua idade: \"))\n",
        "  cep = int(input(\"Digite seu cep: \"))\n",
        "\n",
        "  lista_dados[0].append(nome)\n",
        "  lista_dados[1].append(idade)\n",
        "  lista_dados[2].append(cep)\n",
        "\n",
        "  i += 1\n",
        "\n",
        "print(lista_dados)"
      ],
      "metadata": {
        "colab": {
          "base_uri": "https://localhost:8080/"
        },
        "id": "PlJolVqHtAmG",
        "outputId": "4ab15198-d6d7-463d-c6a6-1307c0192235"
      },
      "execution_count": null,
      "outputs": [
        {
          "output_type": "stream",
          "name": "stdout",
          "text": [
            "Digite seu nome: sdfsfg\n",
            "Digite sua idade: 65\n",
            "Digite seu cep: 545\n",
            "Digite seu nome: fbsdb\n",
            "Digite sua idade: 584\n",
            "Digite seu cep: 745\n",
            "[['sdfsfg', 'fbsdb'], [65, 584], [545, 745]]\n"
          ]
        }
      ]
    },
    {
      "cell_type": "code",
      "source": [
        "# Ex.3\n",
        "\n",
        "lista_dados = []\n",
        "i = 0\n",
        "\n",
        "while i < 2:\n",
        "  nome = input(\"Digite seu nome: \")\n",
        "  idade = int(input(\"Digite sua idade: \"))\n",
        "  cep = int(input(\"Digite seu cep: \"))\n",
        "\n",
        "  lista_dados.append([nome, idade, cep])\n",
        "\n",
        "  i += 1\n",
        "\n",
        "print(lista_dados)"
      ],
      "metadata": {
        "colab": {
          "base_uri": "https://localhost:8080/"
        },
        "id": "71eOIRQrrOhZ",
        "outputId": "25df62cf-6f94-415a-d675-fee8123f4c32"
      },
      "execution_count": null,
      "outputs": [
        {
          "output_type": "stream",
          "name": "stdout",
          "text": [
            "Digite seu nome: a\n",
            "Digite sua idade: 1\n",
            "Digite seu cep: 12\n",
            "Digite seu nome: b\n",
            "Digite sua idade: 2\n",
            "Digite seu cep: 23\n",
            "[['a', 1, 12], ['b', 2, 23]]\n"
          ]
        }
      ]
    },
    {
      "cell_type": "code",
      "source": [
        "# Exemplo de Tuplas\n",
        "\n",
        "tupla = 4, 5, 6\n",
        "print(tupla)"
      ],
      "metadata": {
        "colab": {
          "base_uri": "https://localhost:8080/"
        },
        "id": "gbtPr4iF7Ubx",
        "outputId": "0c5c3d2d-f0e3-4237-c86d-fe3c81bbf770"
      },
      "execution_count": 16,
      "outputs": [
        {
          "output_type": "stream",
          "name": "stdout",
          "text": [
            "(4, 5, 6)\n"
          ]
        }
      ]
    },
    {
      "cell_type": "code",
      "source": [
        "# Exemplo de Dicionário\n",
        "\n",
        "dicionario = {\n",
        "    'nome' : ['Pedro', 'Maria'],\n",
        "    'idade' : [17, 34]\n",
        "}\n",
        "\n",
        "print(dicionario)"
      ],
      "metadata": {
        "colab": {
          "base_uri": "https://localhost:8080/"
        },
        "id": "Fk0u5NeH7smD",
        "outputId": "4f55d4b0-f419-4b94-9c7f-a9d71e944f6d"
      },
      "execution_count": 17,
      "outputs": [
        {
          "output_type": "stream",
          "name": "stdout",
          "text": [
            "{'nome': ['Pedro', 'Maria'], 'idade': [17, 34]}\n"
          ]
        }
      ]
    },
    {
      "cell_type": "code",
      "source": [
        "# Tupla\n",
        "\n",
        "tupla_tupla = ((4, 5, 6), (6, 7, 8))\n",
        "\n",
        "print(tupla_tupla)"
      ],
      "metadata": {
        "colab": {
          "base_uri": "https://localhost:8080/"
        },
        "id": "b68O4NKA8of-",
        "outputId": "1b9962a0-5b11-4555-a9fc-c956b1876aaa"
      },
      "execution_count": 27,
      "outputs": [
        {
          "output_type": "stream",
          "name": "stdout",
          "text": [
            "((4, 5, 6), (6, 7, 8))\n"
          ]
        }
      ]
    },
    {
      "cell_type": "code",
      "source": [
        "tupla1 = tuple('fiap')\n",
        "print(tupla1)"
      ],
      "metadata": {
        "colab": {
          "base_uri": "https://localhost:8080/"
        },
        "id": "Ssg59iXu9s9G",
        "outputId": "ff774e8a-14a3-40e3-bf3c-06e586017466"
      },
      "execution_count": 22,
      "outputs": [
        {
          "output_type": "stream",
          "name": "stdout",
          "text": [
            "('f', 'i', 'a', 'p')\n"
          ]
        }
      ]
    },
    {
      "cell_type": "code",
      "source": [
        "tupla2 = tuple(['fiap', [1, 2], True])\n",
        "print(tupla2)"
      ],
      "metadata": {
        "colab": {
          "base_uri": "https://localhost:8080/"
        },
        "id": "4OztE80z92m_",
        "outputId": "00d17b43-8da8-46c5-ffb5-94affa02c34d"
      },
      "execution_count": 42,
      "outputs": [
        {
          "output_type": "stream",
          "name": "stdout",
          "text": [
            "('fiap', [1, 2], True)\n"
          ]
        }
      ]
    },
    {
      "cell_type": "code",
      "source": [
        "tupla2[1].append(1000)\n",
        "print(tupla2)"
      ],
      "metadata": {
        "colab": {
          "base_uri": "https://localhost:8080/"
        },
        "id": "Xpm_BbyV-iwQ",
        "outputId": "2242f24e-6d6b-4057-f6ee-07bd0f565265"
      },
      "execution_count": 43,
      "outputs": [
        {
          "output_type": "stream",
          "name": "stdout",
          "text": [
            "('fiap', [1, 2, 1000], True)\n"
          ]
        }
      ]
    },
    {
      "cell_type": "code",
      "source": [
        "tupla3 = tuple(['fiap', [1, 2], True])\n",
        "lista = list(tupla3)\n",
        "print(lista)\n",
        "\n",
        "lista.insert(0, 'matheus')\n",
        "print(lista)\n",
        "\n",
        "tupla3 = tuple(lista)\n",
        "print(tupla3)"
      ],
      "metadata": {
        "colab": {
          "base_uri": "https://localhost:8080/"
        },
        "id": "7mmCi_VD_zqQ",
        "outputId": "ab97e488-7085-4a4a-9218-959f4e9753fb"
      },
      "execution_count": 50,
      "outputs": [
        {
          "output_type": "stream",
          "name": "stdout",
          "text": [
            "['fiap', [1, 2], True]\n",
            "['matheus', 'fiap', [1, 2], True]\n",
            "('matheus', 'fiap', [1, 2], True)\n"
          ]
        }
      ]
    },
    {
      "cell_type": "code",
      "source": [
        "tupla4 = tuple(['fiap', [1, 2], True])\n",
        "lista2 = list(tupla4)\n",
        "\n",
        "posicao_insercao = lista2.index('fiap') + 1\n",
        "lista2.insert(posicao_insercao, 'hoje')\n",
        "\n",
        "tupla4 = tuple(lista2)\n",
        "print(tupla4)"
      ],
      "metadata": {
        "colab": {
          "base_uri": "https://localhost:8080/"
        },
        "id": "jmww4rV6BOn_",
        "outputId": "872db499-c9e6-4663-f47a-8d3022f3dc3a"
      },
      "execution_count": 52,
      "outputs": [
        {
          "output_type": "stream",
          "name": "stdout",
          "text": [
            "('fiap', 'hoje', [1, 2], True)\n"
          ]
        }
      ]
    },
    {
      "cell_type": "code",
      "source": [
        "tupla5 = (4, None, 'fiap') + (6, 0) + ('engenharia', 1)\n",
        "print(tupla5)"
      ],
      "metadata": {
        "colab": {
          "base_uri": "https://localhost:8080/"
        },
        "id": "EQ9fkK3PCL55",
        "outputId": "2593e0cf-d08d-4e83-bf9d-1baab7f3c4cf"
      },
      "execution_count": 54,
      "outputs": [
        {
          "output_type": "stream",
          "name": "stdout",
          "text": [
            "(4, None, 'fiap', 6, 0, 'engenharia', 1)\n"
          ]
        }
      ]
    },
    {
      "cell_type": "code",
      "source": [
        "tupla6 = (4, None, 'fiap') * 2\n",
        "print(tupla6)"
      ],
      "metadata": {
        "colab": {
          "base_uri": "https://localhost:8080/"
        },
        "id": "pRqqanZ9Ctwl",
        "outputId": "9e33ba0b-edb6-4830-a641-a4494f1287c3"
      },
      "execution_count": 55,
      "outputs": [
        {
          "output_type": "stream",
          "name": "stdout",
          "text": [
            "(4, None, 'fiap', 4, None, 'fiap')\n"
          ]
        }
      ]
    }
  ]
}