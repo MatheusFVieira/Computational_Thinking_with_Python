{
  "nbformat": 4,
  "nbformat_minor": 0,
  "metadata": {
    "colab": {
      "provenance": []
    },
    "kernelspec": {
      "name": "python3",
      "display_name": "Python 3"
    },
    "language_info": {
      "name": "python"
    }
  },
  "cells": [
    {
      "cell_type": "code",
      "execution_count": 5,
      "metadata": {
        "colab": {
          "base_uri": "https://localhost:8080/"
        },
        "id": "_TOuoUUexBkV",
        "outputId": "c40be8fd-0407-4bb5-dff0-0d33ebbf00ec"
      },
      "outputs": [
        {
          "output_type": "stream",
          "name": "stdout",
          "text": [
            "Digite a temperatura em fahreiheit: 10\n",
            "A temperatura em celsius é:  -12.222222222222223\n",
            "Digite a temperatura em fahreiheit: 72\n",
            "A temperatura em celsius é:  22.22222222222222\n",
            "Digite a temperatura em fahreiheit: 104\n",
            "A temperatura em celsius é:  40.0\n",
            "Digite a temperatura em fahreiheit: 0\n",
            "A temperatura em celsius é:  -17.77777777777778\n"
          ]
        }
      ],
      "source": [
        "# Exemplo 1\n",
        "\n",
        "temp_c = 0\n",
        "temp_f = 1\n",
        "\n",
        "while temp_f != 0:\n",
        "  temp_f = float(input(\"Digite a temperatura em fahreiheit: \"))\n",
        "  temp_c = 5/9 * (temp_f - 32)\n",
        "  print(\"A temperatura em celsius é: \", temp_c)"
      ]
    },
    {
      "cell_type": "code",
      "source": [
        "# Exemplo 2\n",
        "\n",
        "temp_c = 0\n",
        "temp_f = float(input(\"Digite a temperatura em fahreiheit: \"))\n",
        "lista_temp_c = []\n",
        "\n",
        "while temp_f != 0:\n",
        "  temp_c = 5/9 * (temp_f - 32)\n",
        "  print(\"A temperatura em celsius é: \", temp_c)\n",
        "  lista_temp_c.append(temp_c)\n",
        "  temp_f = float(input(\"Digite a temperatura em fahreiheit: \"))\n",
        "\n",
        "soma_temp_c = 0\n",
        "media_temp_c = 0\n",
        "\n",
        "for i in lista_temp_c:\n",
        "  soma_temp_c += i\n",
        "\n",
        "media_temp_c = soma_temp_c / len(lista_temp_c)\n",
        "print(\"A soma das temperaturas é: \", soma_temp_c)\n",
        "print(\"A média das temperaturas é: \", media_temp_c)"
      ],
      "metadata": {
        "colab": {
          "base_uri": "https://localhost:8080/"
        },
        "id": "zwH40JuF6W_H",
        "outputId": "7f03d1e9-0a44-480e-e58d-2ffcfe7eee79"
      },
      "execution_count": 6,
      "outputs": [
        {
          "output_type": "stream",
          "name": "stdout",
          "text": [
            "Digite a temperatura em fahreiheit: 104\n",
            "A temperatura em celsius é:  40.0\n",
            "Digite a temperatura em fahreiheit: 72\n",
            "A temperatura em celsius é:  22.22222222222222\n",
            "Digite a temperatura em fahreiheit: 10\n",
            "A temperatura em celsius é:  -12.222222222222223\n",
            "Digite a temperatura em fahreiheit: 0\n",
            "A temperatura em celsius é:  -17.77777777777778\n",
            "A lista de temperaturas em celsius é:  [40.0, 22.22222222222222, -12.222222222222223, -17.77777777777778]\n"
          ]
        }
      ]
    },
    {
      "cell_type": "code",
      "source": [
        "# Exemplo 3\n",
        "\n",
        "temp_c = 0\n",
        "temp_f = float(input(\"Digite a temperatura em fahreiheit: \"))\n",
        "lista_temp_c = []\n",
        "\n",
        "while temp_f != 0:\n",
        "  temp_c = 5/9 * (temp_f - 32)\n",
        "  print(\"A temperatura em celsius é: \", temp_c)\n",
        "  lista_temp_c.append(temp_c)\n",
        "  temp_f = float(input(\"Digite a temperatura em fahreiheit: \"))\n",
        "\n",
        "soma_temp_c = 0\n",
        "media_temp_c = 0\n",
        "\n",
        "for i in lista_temp_c:\n",
        "  soma_temp_c += i\n",
        "\n",
        "media_temp_c = soma_temp_c / len(lista_temp_c)\n",
        "print(\"A soma das temperaturas é: \", soma_temp_c)\n",
        "print(\"A média das temperaturas é: \", media_temp_c)\n",
        "\n",
        "lista_taxa = []\n",
        "\n",
        "for i in lista_temp_c:\n",
        "  taxa = i / media_temp_c\n",
        "  lista_taxa.append(taxa)\n",
        "\n",
        "print(lista_taxa)"
      ],
      "metadata": {
        "colab": {
          "base_uri": "https://localhost:8080/"
        },
        "id": "j6din6iE9NZX",
        "outputId": "59235364-4bce-4342-ac0a-77a1e47d60db"
      },
      "execution_count": 7,
      "outputs": [
        {
          "output_type": "stream",
          "name": "stdout",
          "text": [
            "Digite a temperatura em fahreiheit: 71\n",
            "A temperatura em celsius é:  21.666666666666668\n",
            "Digite a temperatura em fahreiheit: 10\n",
            "A temperatura em celsius é:  -12.222222222222223\n",
            "Digite a temperatura em fahreiheit: 100\n",
            "A temperatura em celsius é:  37.77777777777778\n",
            "Digite a temperatura em fahreiheit: 0\n",
            "A soma das temperaturas é:  47.22222222222222\n",
            "A média das temperaturas é:  15.74074074074074\n",
            "[1.3764705882352941, -0.7764705882352942, 2.4]\n"
          ]
        }
      ]
    }
  ]
}