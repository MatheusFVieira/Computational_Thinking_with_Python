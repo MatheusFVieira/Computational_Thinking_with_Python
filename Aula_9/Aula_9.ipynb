{
  "nbformat": 4,
  "nbformat_minor": 0,
  "metadata": {
    "colab": {
      "provenance": []
    },
    "kernelspec": {
      "name": "python3",
      "display_name": "Python 3"
    },
    "language_info": {
      "name": "python"
    }
  },
  "cells": [
    {
      "cell_type": "code",
      "source": [
        "def recucao_fatorial(n):\n",
        "    if n == 0:\n",
        "        return 1\n",
        "    else:\n",
        "        return n * recucao_fatorial(n - 1)\n",
        "\n",
        "num = input(\"Digite um número para calcular o fatorial: \")\n",
        "num = int(num)\n",
        "resultado = recucao_fatorial(num)\n",
        "print(f\"O fatorial de {num} é {resultado}.\")"
      ],
      "metadata": {
        "colab": {
          "base_uri": "https://localhost:8080/"
        },
        "id": "art6zoK8-U1N",
        "outputId": "f3541206-3544-4046-b246-47df25ae6e2e"
      },
      "execution_count": 14,
      "outputs": [
        {
          "output_type": "stream",
          "name": "stdout",
          "text": [
            "Digite um número para calcular o fatorial: 6\n",
            "O fatorial de 6 é 720.\n"
          ]
        }
      ]
    },
    {
      "cell_type": "code",
      "execution_count": 9,
      "metadata": {
        "id": "hXtIXAprzYLt",
        "colab": {
          "base_uri": "https://localhost:8080/"
        },
        "outputId": "9b9cd265-203c-4975-e5a2-1a4985df1095"
      },
      "outputs": [
        {
          "output_type": "stream",
          "name": "stdout",
          "text": [
            "40\n"
          ]
        }
      ],
      "source": [
        "# Ex.1\n",
        "\n",
        "def multiplicacao(num1, num2):\n",
        "    return num1 * num2\n",
        "\n",
        "resultado = multiplicacao(5, 8)\n",
        "print(resultado)"
      ]
    },
    {
      "cell_type": "code",
      "source": [
        "# Ex.2\n",
        "\n",
        "def saudacao():\n",
        "    print(\"Olá!\")\n",
        "\n",
        "saudacao()"
      ],
      "metadata": {
        "colab": {
          "base_uri": "https://localhost:8080/"
        },
        "id": "mpBS_vTx8Xkd",
        "outputId": "198bf02d-d076-434a-bbd5-7a3c60764111"
      },
      "execution_count": 11,
      "outputs": [
        {
          "output_type": "stream",
          "name": "stdout",
          "text": [
            "Olá!\n"
          ]
        }
      ]
    },
    {
      "cell_type": "code",
      "source": [
        "# Ex.3\n",
        "\n",
        "def saudacao_personalizada(nome):\n",
        "    print(f\"Olá, {nome}. Seja bem-vindo(a)!\")\n",
        "\n",
        "nome = input(\"Digite seu nome: \")\n",
        "saudacao_personalizada(nome)"
      ],
      "metadata": {
        "colab": {
          "base_uri": "https://localhost:8080/"
        },
        "id": "3KVtuYy784jw",
        "outputId": "2a5abf11-f70f-4b96-adbf-56cf348fc159"
      },
      "execution_count": 12,
      "outputs": [
        {
          "output_type": "stream",
          "name": "stdout",
          "text": [
            "Digite seu nome: Matheus\n",
            "Olá, Matheus. Seja bem-vindo(a)!\n"
          ]
        }
      ]
    },
    {
      "cell_type": "code",
      "source": [
        "# Ex.4\n",
        "\n",
        "def media(a, b):\n",
        "    resultado_media = (a + b) / 2\n",
        "    return resultado_media\n",
        "\n",
        "x = float(input(\"Digite um número: \"))\n",
        "y = float(input(\"Digite um número: \"))\n",
        "\n",
        "resultado = media(x, y)\n",
        "print(f\"A média dos números é: {resultado}\")"
      ],
      "metadata": {
        "colab": {
          "base_uri": "https://localhost:8080/"
        },
        "id": "216W94zu9yJ7",
        "outputId": "de49a045-51f4-4912-e066-807eb954aff7"
      },
      "execution_count": 13,
      "outputs": [
        {
          "output_type": "stream",
          "name": "stdout",
          "text": [
            "Digite um número: 10\n",
            "Digite um número: 20\n",
            "A média dos números é: 15.0\n"
          ]
        }
      ]
    },
    {
      "cell_type": "code",
      "source": [
        "# Ex.5\n",
        "\n",
        "def medias(a, b, c, d):\n",
        "    result_media1 = (a + b) / 2\n",
        "    result_media2 = (c + d) / 2\n",
        "\n",
        "    return result_media1, result_media2\n",
        "\n",
        "x = float(input(\"Digite um número: \"))\n",
        "y = float(input(\"Digite um número: \"))\n",
        "z = float(input(\"Digite um número: \"))\n",
        "w = float(input(\"Digite um número: \"))\n",
        "\n",
        "result1, result2 = medias(x, y, z, w)\n",
        "print(result1)\n",
        "print(result2)"
      ],
      "metadata": {
        "colab": {
          "base_uri": "https://localhost:8080/"
        },
        "id": "DcO3890Y-doc",
        "outputId": "6522deb0-d351-4401-a52d-7c66dabb7a7f"
      },
      "execution_count": 16,
      "outputs": [
        {
          "output_type": "stream",
          "name": "stdout",
          "text": [
            "Digite um número: 10\n",
            "Digite um número: 20\n",
            "Digite um número: 10\n",
            "Digite um número: 15\n",
            "15.0\n",
            "12.5\n"
          ]
        }
      ]
    },
    {
      "cell_type": "code",
      "source": [
        "# Exercício 1\n",
        "\n",
        "def equacao_primeiro(x):\n",
        "    return 10 * x + 5\n",
        "\n",
        "num = float(input(\"Digite o valor de x: \"))\n",
        "resultado = equacao_primeiro(num)\n",
        "print(resultado)"
      ],
      "metadata": {
        "colab": {
          "base_uri": "https://localhost:8080/"
        },
        "id": "C9NUUBcSAOU2",
        "outputId": "8cff935d-fe01-466f-cf73-85df29696bf5"
      },
      "execution_count": 21,
      "outputs": [
        {
          "output_type": "stream",
          "name": "stdout",
          "text": [
            "Digite o valor de x: 15\n",
            "155.0\n"
          ]
        }
      ]
    },
    {
      "cell_type": "code",
      "source": [
        "# Exercício 2\n",
        "\n",
        "def area(b, h):\n",
        "    return b * h\n",
        "\n",
        "escolha = int(input(\"Digite 1 para calcular a área de um retângulo ou 2 para calcular a área de um quadrado: \"))\n",
        "\n",
        "if escolha == 1:\n",
        "    base = float(input(\"Digite a base do retângulo: \"))\n",
        "    altura = float(input(\"Digite a altura do retângulo: \"))\n",
        "    a = area(base, altura)\n",
        "elif escolha == 2:\n",
        "    lado = float(input(\"Digite o lado do quadrado: \"))\n",
        "    a = area(lado, lado)\n",
        "\n",
        "print(f\" A área é {a}\")"
      ],
      "metadata": {
        "colab": {
          "base_uri": "https://localhost:8080/"
        },
        "id": "wWEJle3uAzlt",
        "outputId": "4b30ec76-f1c4-4e86-e756-7771fdb6535f"
      },
      "execution_count": 26,
      "outputs": [
        {
          "output_type": "stream",
          "name": "stdout",
          "text": [
            "Digite 1 para calcular a área de um retângulo ou 2 para calcular a área de um quadrado: 1\n",
            "Digite a base do retângulo: 20\n",
            "Digite a altura do retângulo: 10\n",
            " A área é 200.0\n"
          ]
        }
      ]
    },
    {
      "cell_type": "code",
      "source": [
        "# Exercício 3.1\n",
        "\n",
        "def equacao_segundo(x):\n",
        "    return (x * x) + (-2 * x) + (5 * x) + (-2 * 5)\n",
        "\n",
        "num = float(input(\"Digite o valor de x: \"))\n",
        "resultado_2 = equacao_segundo(num)\n",
        "print(resultado_2)"
      ],
      "metadata": {
        "colab": {
          "base_uri": "https://localhost:8080/"
        },
        "id": "kVS21aIbB_dC",
        "outputId": "71362da5-85d8-43d4-8c46-1e16da4dd09a"
      },
      "execution_count": 36,
      "outputs": [
        {
          "output_type": "stream",
          "name": "stdout",
          "text": [
            "Digite o valor de x: 10\n",
            "120.0\n"
          ]
        }
      ]
    },
    {
      "cell_type": "code",
      "source": [
        "# Exercício 3.2\n",
        "\n",
        "def equacao(a1, a2, b1, b2):\n",
        "    A = a1 * a2\n",
        "    B = (a1 * b2) + (a2 * b1)\n",
        "    C = b1 * b2\n",
        "\n",
        "    delta = (B ** 2) - 4 * A * C\n",
        "\n",
        "    x1 = (-B + (delta ** 0.5)) / (2 * A)\n",
        "    x2 = (-B - (delta ** 0.5)) / (2 * A)\n",
        "\n",
        "    return x1, x2\n",
        "\n",
        "resultado = equacao(-1, -2, 3, 2)\n",
        "print(resultado)\n"
      ],
      "metadata": {
        "colab": {
          "base_uri": "https://localhost:8080/"
        },
        "id": "HfxOme11TPkl",
        "outputId": "81f56c3d-bd05-4189-ba8b-31a4664282e4"
      },
      "execution_count": 43,
      "outputs": [
        {
          "output_type": "stream",
          "name": "stdout",
          "text": [
            "(3.0, 1.0)\n"
          ]
        }
      ]
    },
    {
      "cell_type": "code",
      "source": [
        "# Ex.6\n",
        "\n",
        "def eleva_quadrado(x):\n",
        "    quadrado = x ** 2\n",
        "    return quadrado\n",
        "\n",
        "def equacao_segundo_grau(x):\n",
        "    resultado = eleva_quadrado(x) + (10 * x) - 5\n",
        "    return resultado\n",
        "\n",
        "equacao_segundo_grau(5)"
      ],
      "metadata": {
        "colab": {
          "base_uri": "https://localhost:8080/"
        },
        "id": "SnSd61HTadga",
        "outputId": "bee5945c-04a0-409b-ab2d-c0b238160aa4"
      },
      "execution_count": 44,
      "outputs": [
        {
          "output_type": "execute_result",
          "data": {
            "text/plain": [
              "70"
            ]
          },
          "metadata": {},
          "execution_count": 44
        }
      ]
    },
    {
      "cell_type": "code",
      "source": [
        "# Ex.7\n",
        "\n",
        "def calcula_media(lista):\n",
        "    soma = 0\n",
        "    for i in lista:\n",
        "        soma += i\n",
        "    media = soma / len(lista)\n",
        "    return media\n",
        "\n",
        "lista = [1, 2, 3, 4, 5]\n",
        "print(calcula_media(lista))"
      ],
      "metadata": {
        "colab": {
          "base_uri": "https://localhost:8080/"
        },
        "id": "r7BiM9p8bhL5",
        "outputId": "66cce3a4-ff41-41a5-8bf6-53c2c6f2a907"
      },
      "execution_count": 46,
      "outputs": [
        {
          "output_type": "stream",
          "name": "stdout",
          "text": [
            "3.0\n"
          ]
        }
      ]
    },
    {
      "cell_type": "code",
      "source": [
        "# Ex.8\n",
        "\n",
        "def maior_valor(lista):\n",
        "    maior = lista[0]\n",
        "    valor_max = max(lista)\n",
        "    return valor_max\n",
        "\n",
        "lista = [1, 2, 3, 4, 5]\n",
        "print(maior_valor(lista))"
      ],
      "metadata": {
        "colab": {
          "base_uri": "https://localhost:8080/"
        },
        "id": "9xO6hHcZdbYT",
        "outputId": "b0203a88-4fc3-4d0c-fe12-f84fcd36c2eb"
      },
      "execution_count": 47,
      "outputs": [
        {
          "output_type": "stream",
          "name": "stdout",
          "text": [
            "5\n"
          ]
        }
      ]
    },
    {
      "cell_type": "code",
      "source": [
        "# Exercício 4\n",
        "\n",
        "def soma_lista(lista):\n",
        "    soma = 0\n",
        "    for i in lista:\n",
        "        soma += i\n",
        "    return soma\n",
        "\n",
        "def media_lista(lista):\n",
        "    media = soma_lista(lista) / len(lista)\n",
        "    return media\n",
        "\n",
        "lista = [100, 200, 300, 400, 500]\n",
        "print(soma_lista(lista))\n",
        "print(media_lista(lista))"
      ],
      "metadata": {
        "colab": {
          "base_uri": "https://localhost:8080/"
        },
        "id": "ggXFOueAe0MZ",
        "outputId": "a327fd03-409f-4d1c-ce7e-27647cafc4ab"
      },
      "execution_count": 48,
      "outputs": [
        {
          "output_type": "stream",
          "name": "stdout",
          "text": [
            "1500\n",
            "300.0\n"
          ]
        }
      ]
    }
  ]
}